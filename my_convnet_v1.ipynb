{
 "cells": [
  {
   "cell_type": "code",
   "execution_count": 1,
   "metadata": {},
   "outputs": [
    {
     "name": "stderr",
     "output_type": "stream",
     "text": [
      "/Users/zytec/anaconda3/lib/python3.6/site-packages/h5py/__init__.py:36: FutureWarning: Conversion of the second argument of issubdtype from `float` to `np.floating` is deprecated. In future, it will be treated as `np.float64 == np.dtype(float).type`.\n",
      "  from ._conv import register_converters as _register_converters\n"
     ]
    }
   ],
   "source": [
    "import tensorflow as tf\n",
    "import numpy as np\n",
    "import pandas as pd\n",
    "from matplotlib import pylab as plt\n",
    "\n",
    "%matplotlib inline"
   ]
  },
  {
   "cell_type": "markdown",
   "metadata": {},
   "source": [
    "## 探索数据集"
   ]
  },
  {
   "cell_type": "code",
   "execution_count": 2,
   "metadata": {},
   "outputs": [
    {
     "data": {
      "text/plain": [
       "((42000, 785), (28000, 784))"
      ]
     },
     "execution_count": 2,
     "metadata": {},
     "output_type": "execute_result"
    }
   ],
   "source": [
    "df_train = pd.read_csv('./data/train.csv')\n",
    "df_test = pd.read_csv('./data/test.csv')\n",
    "df_train.shape, df_test.shape"
   ]
  },
  {
   "cell_type": "code",
   "execution_count": 3,
   "metadata": {},
   "outputs": [
    {
     "data": {
      "text/html": [
       "<div>\n",
       "<style scoped>\n",
       "    .dataframe tbody tr th:only-of-type {\n",
       "        vertical-align: middle;\n",
       "    }\n",
       "\n",
       "    .dataframe tbody tr th {\n",
       "        vertical-align: top;\n",
       "    }\n",
       "\n",
       "    .dataframe thead th {\n",
       "        text-align: right;\n",
       "    }\n",
       "</style>\n",
       "<table border=\"1\" class=\"dataframe\">\n",
       "  <thead>\n",
       "    <tr style=\"text-align: right;\">\n",
       "      <th></th>\n",
       "      <th>label</th>\n",
       "      <th>pixel0</th>\n",
       "      <th>pixel1</th>\n",
       "      <th>pixel2</th>\n",
       "      <th>pixel3</th>\n",
       "      <th>pixel4</th>\n",
       "      <th>pixel5</th>\n",
       "      <th>pixel6</th>\n",
       "      <th>pixel7</th>\n",
       "      <th>pixel8</th>\n",
       "      <th>...</th>\n",
       "      <th>pixel774</th>\n",
       "      <th>pixel775</th>\n",
       "      <th>pixel776</th>\n",
       "      <th>pixel777</th>\n",
       "      <th>pixel778</th>\n",
       "      <th>pixel779</th>\n",
       "      <th>pixel780</th>\n",
       "      <th>pixel781</th>\n",
       "      <th>pixel782</th>\n",
       "      <th>pixel783</th>\n",
       "    </tr>\n",
       "  </thead>\n",
       "  <tbody>\n",
       "    <tr>\n",
       "      <th>0</th>\n",
       "      <td>1</td>\n",
       "      <td>0</td>\n",
       "      <td>0</td>\n",
       "      <td>0</td>\n",
       "      <td>0</td>\n",
       "      <td>0</td>\n",
       "      <td>0</td>\n",
       "      <td>0</td>\n",
       "      <td>0</td>\n",
       "      <td>0</td>\n",
       "      <td>...</td>\n",
       "      <td>0</td>\n",
       "      <td>0</td>\n",
       "      <td>0</td>\n",
       "      <td>0</td>\n",
       "      <td>0</td>\n",
       "      <td>0</td>\n",
       "      <td>0</td>\n",
       "      <td>0</td>\n",
       "      <td>0</td>\n",
       "      <td>0</td>\n",
       "    </tr>\n",
       "  </tbody>\n",
       "</table>\n",
       "<p>1 rows × 785 columns</p>\n",
       "</div>"
      ],
      "text/plain": [
       "   label  pixel0  pixel1  pixel2  pixel3  pixel4  pixel5  pixel6  pixel7  \\\n",
       "0      1       0       0       0       0       0       0       0       0   \n",
       "\n",
       "   pixel8    ...     pixel774  pixel775  pixel776  pixel777  pixel778  \\\n",
       "0       0    ...            0         0         0         0         0   \n",
       "\n",
       "   pixel779  pixel780  pixel781  pixel782  pixel783  \n",
       "0         0         0         0         0         0  \n",
       "\n",
       "[1 rows x 785 columns]"
      ]
     },
     "execution_count": 3,
     "metadata": {},
     "output_type": "execute_result"
    }
   ],
   "source": [
    "df_train.head(1)"
   ]
  },
  {
   "cell_type": "code",
   "execution_count": 4,
   "metadata": {},
   "outputs": [
    {
     "data": {
      "text/html": [
       "<div>\n",
       "<style scoped>\n",
       "    .dataframe tbody tr th:only-of-type {\n",
       "        vertical-align: middle;\n",
       "    }\n",
       "\n",
       "    .dataframe tbody tr th {\n",
       "        vertical-align: top;\n",
       "    }\n",
       "\n",
       "    .dataframe thead th {\n",
       "        text-align: right;\n",
       "    }\n",
       "</style>\n",
       "<table border=\"1\" class=\"dataframe\">\n",
       "  <thead>\n",
       "    <tr style=\"text-align: right;\">\n",
       "      <th></th>\n",
       "      <th>pixel0</th>\n",
       "      <th>pixel1</th>\n",
       "      <th>pixel2</th>\n",
       "      <th>pixel3</th>\n",
       "      <th>pixel4</th>\n",
       "      <th>pixel5</th>\n",
       "      <th>pixel6</th>\n",
       "      <th>pixel7</th>\n",
       "      <th>pixel8</th>\n",
       "      <th>pixel9</th>\n",
       "      <th>...</th>\n",
       "      <th>pixel774</th>\n",
       "      <th>pixel775</th>\n",
       "      <th>pixel776</th>\n",
       "      <th>pixel777</th>\n",
       "      <th>pixel778</th>\n",
       "      <th>pixel779</th>\n",
       "      <th>pixel780</th>\n",
       "      <th>pixel781</th>\n",
       "      <th>pixel782</th>\n",
       "      <th>pixel783</th>\n",
       "    </tr>\n",
       "  </thead>\n",
       "  <tbody>\n",
       "    <tr>\n",
       "      <th>0</th>\n",
       "      <td>0</td>\n",
       "      <td>0</td>\n",
       "      <td>0</td>\n",
       "      <td>0</td>\n",
       "      <td>0</td>\n",
       "      <td>0</td>\n",
       "      <td>0</td>\n",
       "      <td>0</td>\n",
       "      <td>0</td>\n",
       "      <td>0</td>\n",
       "      <td>...</td>\n",
       "      <td>0</td>\n",
       "      <td>0</td>\n",
       "      <td>0</td>\n",
       "      <td>0</td>\n",
       "      <td>0</td>\n",
       "      <td>0</td>\n",
       "      <td>0</td>\n",
       "      <td>0</td>\n",
       "      <td>0</td>\n",
       "      <td>0</td>\n",
       "    </tr>\n",
       "  </tbody>\n",
       "</table>\n",
       "<p>1 rows × 784 columns</p>\n",
       "</div>"
      ],
      "text/plain": [
       "   pixel0  pixel1  pixel2  pixel3  pixel4  pixel5  pixel6  pixel7  pixel8  \\\n",
       "0       0       0       0       0       0       0       0       0       0   \n",
       "\n",
       "   pixel9    ...     pixel774  pixel775  pixel776  pixel777  pixel778  \\\n",
       "0       0    ...            0         0         0         0         0   \n",
       "\n",
       "   pixel779  pixel780  pixel781  pixel782  pixel783  \n",
       "0         0         0         0         0         0  \n",
       "\n",
       "[1 rows x 784 columns]"
      ]
     },
     "execution_count": 4,
     "metadata": {},
     "output_type": "execute_result"
    }
   ],
   "source": [
    "df_test.head(1)"
   ]
  },
  {
   "cell_type": "code",
   "execution_count": 5,
   "metadata": {},
   "outputs": [
    {
     "data": {
      "text/plain": [
       "255"
      ]
     },
     "execution_count": 5,
     "metadata": {},
     "output_type": "execute_result"
    }
   ],
   "source": [
    "df_test.values.max()"
   ]
  },
  {
   "cell_type": "code",
   "execution_count": 6,
   "metadata": {},
   "outputs": [
    {
     "data": {
      "text/plain": [
       "1    4684\n",
       "7    4401\n",
       "3    4351\n",
       "9    4188\n",
       "2    4177\n",
       "6    4137\n",
       "0    4132\n",
       "4    4072\n",
       "8    4063\n",
       "5    3795\n",
       "Name: label, dtype: int64"
      ]
     },
     "execution_count": 6,
     "metadata": {},
     "output_type": "execute_result"
    }
   ],
   "source": [
    "df_train.iloc[:, 0].value_counts()"
   ]
  },
  {
   "cell_type": "code",
   "execution_count": 7,
   "metadata": {},
   "outputs": [
    {
     "data": {
      "image/png": "[encoded data removed]",
      "text/plain": [
       "<matplotlib.figure.Figure at 0x1822f4e828>"
      ]
     },
     "metadata": {},
     "output_type": "display_data"
    }
   ],
   "source": [
    "example_imgs = df_test.iloc[:10].values.reshape(-1, 28, 28)\n",
    "\n",
    "plt.rcParams['figure.figsize'] = (15, 6)\n",
    "plt.rcParams['image.cmap'] = 'gray'\n",
    "for index, img in enumerate(example_imgs):\n",
    "    plt.subplot(2, 5, index+1)\n",
    "    plt.imshow(img)"
   ]
  },
  {
   "cell_type": "markdown",
   "metadata": {},
   "source": [
    "## 划分数据集"
   ]
  },
  {
   "cell_type": "code",
   "execution_count": 26,
   "metadata": {},
   "outputs": [
    {
     "data": {
      "text/plain": [
       "((42000, 28, 28, 1), (42000, 1), (28000, 28, 28, 1))"
      ]
     },
     "execution_count": 26,
     "metadata": {},
     "output_type": "execute_result"
    }
   ],
   "source": [
    "X_total = df_train.iloc[:, 1:].values.reshape(-1, 28, 28, 1)\n",
    "Y_total = df_train.iloc[:, 0].values.reshape(-1, 1)\n",
    "X_test = df_test.values.reshape(-1, 28, 28, 1)\n",
    "\n",
    "X_total.shape, Y_total.shape, X_test.shape"
   ]
  },
  {
   "cell_type": "code",
   "execution_count": 27,
   "metadata": {},
   "outputs": [],
   "source": [
    "shuffle_indexs = np.random.permutation(X_total.shape[0])\n",
    "X_total_shuffle = X_total[shuffle_indexs]\n",
    "Y_total_shuffle = Y_total[shuffle_indexs]"
   ]
  },
  {
   "cell_type": "code",
   "execution_count": 28,
   "metadata": {},
   "outputs": [],
   "source": [
    "dev_size = 6000\n",
    "\n",
    "X_dev = X_total_shuffle[:dev_size]\n",
    "Y_dev = Y_total_shuffle[:dev_size]\n",
    "X_train = X_total_shuffle[dev_size:]\n",
    "Y_train = Y_total_shuffle[dev_size:]"
   ]
  },
  {
   "cell_type": "code",
   "execution_count": 195,
   "metadata": {},
   "outputs": [
    {
     "data": {
      "text/plain": [
       "Text(0.5,1,'0')"
      ]
     },
     "execution_count": 195,
     "metadata": {},
     "output_type": "execute_result"
    },
    {
     "data": {
      "image/png": "[encoded data removed]",
      "text/plain": [
       "<matplotlib.figure.Figure at 0x1c8773e9b0>"
      ]
     },
     "metadata": {},
     "output_type": "display_data"
    }
   ],
   "source": [
    "index = np.random.randint(X_train.shape[0])\n",
    "plt.imshow(X_train[index, :, :, 0])\n",
    "plt.title(Y_train[index, 0])"
   ]
  },
  {
   "cell_type": "markdown",
   "metadata": {},
   "source": [
    "## 数据生成器"
   ]
  },
  {
   "cell_type": "markdown",
   "metadata": {},
   "source": [
    "#### 数据增强"
   ]
  },
  {
   "cell_type": "code",
   "execution_count": 29,
   "metadata": {},
   "outputs": [],
   "source": [
    "def data_augmentation(X, Y=None):\n",
    "    if Y is None:\n",
    "        return X\n",
    "    else:\n",
    "        return X, Y"
   ]
  },
  {
   "cell_type": "markdown",
   "metadata": {},
   "source": [
    "#### 数据归一化"
   ]
  },
  {
   "cell_type": "code",
   "execution_count": 30,
   "metadata": {},
   "outputs": [],
   "source": [
    "def normalize_data(X, Y=None):\n",
    "    if Y is None:\n",
    "        return X / 255\n",
    "    else:\n",
    "        return X / 255, Y"
   ]
  },
  {
   "cell_type": "code",
   "execution_count": 31,
   "metadata": {},
   "outputs": [],
   "source": [
    "def parser(X, Y=None):    \n",
    "    if Y is None:\n",
    "        X = data_augmentation(X)\n",
    "        X = normalize_data(X)\n",
    "        return X\n",
    "    else:\n",
    "        X, Y = data_augmentation(X, Y)\n",
    "        X, Y = normalize_data(X, Y)\n",
    "        return X, Y"
   ]
  },
  {
   "cell_type": "markdown",
   "metadata": {},
   "source": [
    "#### mini batch 生成器"
   ]
  },
  {
   "cell_type": "code",
   "execution_count": 32,
   "metadata": {},
   "outputs": [],
   "source": [
    "def batch_gen(X, Y, batch_size, repeat=1, num_parallels=4):\n",
    "    m = X.shape[0]\n",
    "    steps = m // batch_size\n",
    "    \n",
    "    if m % batch_size:\n",
    "        steps += 1\n",
    "    \n",
    "    if Y is None:\n",
    "        dataset = tf.data.Dataset.from_tensor_slices(X)\n",
    "    else:\n",
    "        dataset = tf.data.Dataset.from_tensor_slices((X, Y))\n",
    "    dataset = dataset.map(parser, num_parallels)\n",
    "    dataset = dataset.batch(batch_size)\n",
    "    dataset = dataset.shuffle(buffer_size=10000)\n",
    "    dataset = dataset.repeat(repeat)\n",
    "    \n",
    "    iterator = dataset.make_one_shot_iterator()\n",
    "    \n",
    "    return iterator.get_next(), steps"
   ]
  },
  {
   "cell_type": "markdown",
   "metadata": {},
   "source": [
    "## 构建神经网络"
   ]
  },
  {
   "cell_type": "code",
   "execution_count": 74,
   "metadata": {},
   "outputs": [],
   "source": [
    "def build_placeholder():\n",
    "    with tf.name_scope('input_placeholder'):\n",
    "        X = tf.placeholder(dtype=tf.float32, shape=(None, 28, 28, 1), name='input_X')\n",
    "        Y = tf.placeholder(dtype=tf.int32, shape=(None, 1), name='lable_Y')\n",
    "        training = tf.placeholder(dtype=tf.bool, name='training')\n",
    "    \n",
    "    return X, Y, training"
   ]
  },
  {
   "cell_type": "code",
   "execution_count": 202,
   "metadata": {},
   "outputs": [],
   "source": [
    "def build_conv_layer(inputs, training, keep_prob, filters, kernel_size, strides, name):\n",
    "    with tf.name_scope('conv_layer_' + name):\n",
    "        Z = tf.layers.conv2d(inputs, filters=filters, kernel_size=kernel_size, strides=strides, \n",
    "                             padding='same', use_bias=False, \n",
    "                             kernel_initializer=tf.contrib.layers.xavier_initializer_conv2d())\n",
    "        \n",
    "        Z_batch_norm = tf.layers.batch_normalization(inputs, training=training)\n",
    "        \n",
    "        A = tf.nn.relu(Z_batch_norm)\n",
    "        \n",
    "        A_dropout = tf.nn.dropout(A, keep_prob)\n",
    "        \n",
    "    return A_dropout"
   ]
  },
  {
   "cell_type": "code",
   "execution_count": 203,
   "metadata": {},
   "outputs": [],
   "source": [
    "def build_max_pool(inputs, pool_size, strides, name):\n",
    "    with tf.name_scope('max_pool_' + name):\n",
    "        pool = tf.layers.max_pooling2d(inputs, pool_size, strides, name='max_pool')\n",
    "        \n",
    "    return pool"
   ]
  },
  {
   "cell_type": "code",
   "execution_count": 204,
   "metadata": {},
   "outputs": [],
   "source": [
    "def build_flatten_layer(inputs):\n",
    "    with tf.name_scope('flatten_layer'):\n",
    "        flatten = tf.layers.flatten(inputs)\n",
    "        \n",
    "    return flatten"
   ]
  },
  {
   "cell_type": "code",
   "execution_count": 205,
   "metadata": {},
   "outputs": [],
   "source": [
    "def build_softmax_layer(inputs):\n",
    "    with tf.name_scope('softmax_layer'):\n",
    "        Z = tf.layers.dense(inputs, 10, kernel_initializer=tf.contrib.layers.xavier_initializer())\n",
    "        A = tf.nn.softmax(Z)\n",
    "        \n",
    "    return Z, A"
   ]
  },
  {
   "cell_type": "code",
   "execution_count": 206,
   "metadata": {},
   "outputs": [],
   "source": [
    "def build_cost(logits, labels):\n",
    "    with tf.name_scope('cost'):\n",
    "        labels_onehot = tf.one_hot(labels, 10, axis=-1)\n",
    "        cost = tf.reduce_mean(tf.nn.softmax_cross_entropy_with_logits_v2(labels=labels_onehot, logits=logits))\n",
    "    \n",
    "    return cost"
   ]
  },
  {
   "cell_type": "code",
   "execution_count": 207,
   "metadata": {},
   "outputs": [],
   "source": [
    "def build_accuracy(outputs, labels):\n",
    "    with tf.name_scope('accuracy'):\n",
    "        predicts = tf.argmax(outputs, axis=-1, output_type=tf.int32)\n",
    "        is_rights = tf.equal(predicts, tf.reshape(labels, (-1,)))\n",
    "        accuracy = tf.reduce_mean(tf.cast(is_rights, tf.float32))\n",
    "    \n",
    "    return accuracy"
   ]
  },
  {
   "cell_type": "code",
   "execution_count": 208,
   "metadata": {},
   "outputs": [],
   "source": [
    "def build_foreward(X, Y, training, keep_prob):    \n",
    "    conv1 = build_conv_layer(X, training, keep_prob, 8, (3, 3), (1, 1), '1')\n",
    "    conv2 = build_conv_layer(conv1, training, keep_prob, 8, (3, 3), (1, 1), '2')\n",
    "    max_pool2 = build_max_pool(conv2, (2, 2), (2, 2), '2')\n",
    "    \n",
    "    conv3 = build_conv_layer(max_pool2, training, keep_prob, 16, (3, 3), (1, 1), '3')\n",
    "    \n",
    "    flatten = build_flatten_layer(conv3)\n",
    "    \n",
    "    logits, outputs = build_softmax_layer(flatten)\n",
    "    \n",
    "    return logits, outputs"
   ]
  },
  {
   "cell_type": "code",
   "execution_count": 209,
   "metadata": {},
   "outputs": [],
   "source": [
    "def train(lr, keep_prob, batch_size, epochs, print_step, metrics_step, resume=True):\n",
    "    tf.reset_default_graph()\n",
    "    \n",
    "    X_pl, Y_pl, training_pl = build_placeholder()\n",
    "    logits_op, outputs_op = build_foreward(X_pl, Y_pl, training_pl, keep_prob)\n",
    "    cost_op = build_cost(logits_op, Y_pl)\n",
    "    accuracy_op = build_accuracy(outputs_op, Y_pl)\n",
    "    \n",
    "    with tf.control_dependencies(tf.get_collection(tf.GraphKeys.UPDATE_OPS)):\n",
    "        optimizer_op = tf.train.AdamOptimizer(lr).minimize(cost_op)\n",
    "    \n",
    "    train_next_op, train_steps_per_epoch = batch_gen(X_train, Y_train, batch_size, epochs)\n",
    "    dev_next_op, _ = batch_gen(X_dev, Y_dev, batch_size, epochs)\n",
    "    \n",
    "    sess = tf.Session()\n",
    "    \n",
    "    sess.run(tf.global_variables_initializer())\n",
    "    \n",
    "    epoch = 1\n",
    "    step = 1\n",
    "    costs = []\n",
    "    \n",
    "    try:\n",
    "        while True:\n",
    "            train_X_batch, train_Y_batch = sess.run(train_next_op)\n",
    "\n",
    "            _, cost, train_batch_accuracy = sess.run((optimizer_op, cost_op, accuracy_op), feed_dict={\n",
    "                X_pl: train_X_batch,\n",
    "                Y_pl: train_Y_batch,\n",
    "                training_pl: True\n",
    "            })\n",
    "            \n",
    "            if step % print_step == 0:\n",
    "                print('epoch:{0}--step:{1}--cost:{2:.4f}-accuracy:%{3:.2f}'.format(\n",
    "                    epoch, step, cost, train_batch_accuracy * 100))\n",
    "                \n",
    "            if step % metrics_step == 0:\n",
    "                costs.append(cost)\n",
    "            \n",
    "            step += 1\n",
    "            if step % train_steps_per_epoch == 0:\n",
    "                epoch += 1\n",
    "    except tf.errors.OutOfRangeError:\n",
    "        pass\n",
    "    \n",
    "    plt.plot(list(range(1, len(costs) * metrics_step, metrics_step)), costs)\n",
    "    \n",
    "    sess.close()"
   ]
  },
  {
   "cell_type": "code",
   "execution_count": 211,
   "metadata": {},
   "outputs": [
    {
     "name": "stdout",
     "output_type": "stream",
     "text": [
      "epoch:1--step:200--cost:2.1401-accuracy:%18.75\n",
      "epoch:1--step:400--cost:2.1792-accuracy:%18.75\n",
      "epoch:1--step:600--cost:1.8721-accuracy:%37.50\n",
      "epoch:1--step:800--cost:1.7096-accuracy:%37.50\n",
      "epoch:1--step:1000--cost:1.6327-accuracy:%43.75\n",
      "epoch:1--step:1200--cost:1.5362-accuracy:%37.50\n",
      "epoch:1--step:1400--cost:1.2249-accuracy:%62.50\n",
      "epoch:1--step:1600--cost:1.6241-accuracy:%68.75\n",
      "epoch:1--step:1800--cost:1.2150-accuracy:%62.50\n",
      "epoch:1--step:2000--cost:0.9160-accuracy:%81.25\n",
      "epoch:1--step:2200--cost:1.0963-accuracy:%62.50\n",
      "epoch:2--step:2400--cost:1.0551-accuracy:%75.00\n",
      "epoch:2--step:2600--cost:0.7902-accuracy:%75.00\n",
      "epoch:2--step:2800--cost:0.9494-accuracy:%75.00\n",
      "epoch:2--step:3000--cost:0.8913-accuracy:%75.00\n",
      "epoch:2--step:3200--cost:0.5176-accuracy:%87.50\n",
      "epoch:2--step:3400--cost:0.5506-accuracy:%87.50\n",
      "epoch:2--step:3600--cost:0.5935-accuracy:%87.50\n",
      "epoch:2--step:3800--cost:0.6882-accuracy:%75.00\n",
      "epoch:2--step:4000--cost:0.6129-accuracy:%75.00\n",
      "epoch:2--step:4200--cost:0.5447-accuracy:%81.25\n",
      "epoch:2--step:4400--cost:0.4330-accuracy:%81.25\n",
      "epoch:3--step:4600--cost:0.5852-accuracy:%87.50\n",
      "epoch:3--step:4800--cost:0.8881-accuracy:%68.75\n",
      "epoch:3--step:5000--cost:0.7834-accuracy:%75.00\n",
      "epoch:3--step:5200--cost:0.5204-accuracy:%87.50\n",
      "epoch:3--step:5400--cost:0.3093-accuracy:%93.75\n",
      "epoch:3--step:5600--cost:0.4879-accuracy:%87.50\n",
      "epoch:3--step:5800--cost:0.5612-accuracy:%81.25\n",
      "epoch:3--step:6000--cost:0.6218-accuracy:%68.75\n",
      "epoch:3--step:6200--cost:0.7476-accuracy:%81.25\n",
      "epoch:3--step:6400--cost:0.1533-accuracy:%100.00\n",
      "epoch:3--step:6600--cost:0.4093-accuracy:%93.75\n",
      "epoch:4--step:6800--cost:0.7022-accuracy:%87.50\n",
      "epoch:4--step:7000--cost:1.0890-accuracy:%75.00\n",
      "epoch:4--step:7200--cost:0.9875-accuracy:%81.25\n",
      "epoch:4--step:7400--cost:0.2323-accuracy:%93.75\n",
      "epoch:4--step:7600--cost:0.3888-accuracy:%81.25\n",
      "epoch:4--step:7800--cost:0.8375-accuracy:%81.25\n",
      "epoch:4--step:8000--cost:0.1749-accuracy:%93.75\n",
      "epoch:4--step:8200--cost:0.3723-accuracy:%87.50\n",
      "epoch:4--step:8400--cost:0.1797-accuracy:%93.75\n",
      "epoch:4--step:8600--cost:0.1475-accuracy:%100.00\n",
      "epoch:4--step:8800--cost:0.7194-accuracy:%81.25\n",
      "epoch:5--step:9000--cost:0.2317-accuracy:%87.50\n",
      "epoch:5--step:9200--cost:0.0708-accuracy:%100.00\n",
      "epoch:5--step:9400--cost:0.4143-accuracy:%87.50\n",
      "epoch:5--step:9600--cost:0.0999-accuracy:%100.00\n",
      "epoch:5--step:9800--cost:0.1036-accuracy:%100.00\n",
      "epoch:5--step:10000--cost:0.5194-accuracy:%87.50\n",
      "epoch:5--step:10200--cost:0.3529-accuracy:%87.50\n",
      "epoch:5--step:10400--cost:0.2716-accuracy:%93.75\n",
      "epoch:5--step:10600--cost:0.2861-accuracy:%93.75\n",
      "epoch:5--step:10800--cost:0.1418-accuracy:%100.00\n",
      "epoch:5--step:11000--cost:0.1489-accuracy:%100.00\n",
      "epoch:5--step:11200--cost:0.5220-accuracy:%75.00\n",
      "epoch:6--step:11400--cost:0.3281-accuracy:%93.75\n",
      "epoch:6--step:11600--cost:0.1275-accuracy:%100.00\n",
      "epoch:6--step:11800--cost:0.2576-accuracy:%93.75\n",
      "epoch:6--step:12000--cost:0.1230-accuracy:%100.00\n",
      "epoch:6--step:12200--cost:0.2272-accuracy:%93.75\n",
      "epoch:6--step:12400--cost:0.3861-accuracy:%87.50\n",
      "epoch:6--step:12600--cost:0.8667-accuracy:%68.75\n",
      "epoch:6--step:12800--cost:0.2717-accuracy:%93.75\n",
      "epoch:6--step:13000--cost:0.2138-accuracy:%93.75\n",
      "epoch:6--step:13200--cost:0.2602-accuracy:%87.50\n",
      "epoch:6--step:13400--cost:0.2580-accuracy:%93.75\n",
      "epoch:7--step:13600--cost:0.7209-accuracy:%87.50\n",
      "epoch:7--step:13800--cost:0.3279-accuracy:%87.50\n",
      "epoch:7--step:14000--cost:0.5093-accuracy:%81.25\n",
      "epoch:7--step:14200--cost:0.4574-accuracy:%93.75\n",
      "epoch:7--step:14400--cost:0.2946-accuracy:%87.50\n",
      "epoch:7--step:14600--cost:0.2874-accuracy:%87.50\n",
      "epoch:7--step:14800--cost:0.1077-accuracy:%100.00\n",
      "epoch:7--step:15000--cost:0.3035-accuracy:%87.50\n",
      "epoch:7--step:15200--cost:0.1943-accuracy:%93.75\n",
      "epoch:7--step:15400--cost:0.0704-accuracy:%100.00\n",
      "epoch:7--step:15600--cost:0.4586-accuracy:%87.50\n",
      "epoch:8--step:15800--cost:0.1873-accuracy:%100.00\n",
      "epoch:8--step:16000--cost:0.2800-accuracy:%93.75\n",
      "epoch:8--step:16200--cost:1.1306-accuracy:%75.00\n",
      "epoch:8--step:16400--cost:0.2648-accuracy:%93.75\n",
      "epoch:8--step:16600--cost:0.4162-accuracy:%81.25\n",
      "epoch:8--step:16800--cost:0.3296-accuracy:%87.50\n",
      "epoch:8--step:17000--cost:0.2717-accuracy:%87.50\n",
      "epoch:8--step:17200--cost:0.4387-accuracy:%81.25\n",
      "epoch:8--step:17400--cost:0.3654-accuracy:%87.50\n",
      "epoch:8--step:17600--cost:0.2627-accuracy:%93.75\n",
      "epoch:8--step:17800--cost:0.1025-accuracy:%100.00\n",
      "epoch:9--step:18000--cost:0.9570-accuracy:%87.50\n",
      "epoch:9--step:18200--cost:0.2493-accuracy:%87.50\n",
      "epoch:9--step:18400--cost:0.6041-accuracy:%87.50\n",
      "epoch:9--step:18600--cost:0.3347-accuracy:%93.75\n",
      "epoch:9--step:18800--cost:0.2169-accuracy:%93.75\n",
      "epoch:9--step:19000--cost:0.3839-accuracy:%93.75\n",
      "epoch:9--step:19200--cost:0.3080-accuracy:%93.75\n",
      "epoch:9--step:19400--cost:0.3159-accuracy:%87.50\n",
      "epoch:9--step:19600--cost:0.2316-accuracy:%87.50\n",
      "epoch:9--step:19800--cost:0.6103-accuracy:%87.50\n",
      "epoch:9--step:20000--cost:0.1296-accuracy:%100.00\n",
      "epoch:9--step:20200--cost:0.1958-accuracy:%93.75\n",
      "epoch:10--step:20400--cost:0.2012-accuracy:%87.50\n",
      "epoch:10--step:20600--cost:0.1862-accuracy:%100.00\n",
      "epoch:10--step:20800--cost:0.0511-accuracy:%100.00\n",
      "epoch:10--step:21000--cost:0.5080-accuracy:%75.00\n",
      "epoch:10--step:21200--cost:0.3012-accuracy:%87.50\n",
      "epoch:10--step:21400--cost:0.0915-accuracy:%100.00\n",
      "epoch:10--step:21600--cost:0.3837-accuracy:%87.50\n",
      "epoch:10--step:21800--cost:0.1810-accuracy:%93.75\n",
      "epoch:10--step:22000--cost:0.1073-accuracy:%100.00\n",
      "epoch:10--step:22200--cost:0.1068-accuracy:%100.00\n",
      "epoch:10--step:22400--cost:0.1711-accuracy:%93.75\n"
     ]
    },
    {
     "data": {
      "image/png": "[encoded data removed]",
      "text/plain": [
       "<matplotlib.figure.Figure at 0x182f3170f0>"
      ]
     },
     "metadata": {},
     "output_type": "display_data"
    }
   ],
   "source": [
    "train(lr=0.0001, keep_prob=1, batch_size=16, epochs=10, print_step=500, metrics_step=50, resume=False)"
   ]
  },
  {
   "cell_type": "code",
   "execution_count": null,
   "metadata": {},
   "outputs": [],
   "source": []
  }
 ],
 "metadata": {
  "kernelspec": {
   "display_name": "Python 3",
   "language": "python",
   "name": "python3"
  },
  "language_info": {
   "codemirror_mode": {
    "name": "ipython",
    "version": 3
   },
   "file_extension": ".py",
   "mimetype": "text/x-python",
   "name": "python",
   "nbconvert_exporter": "python",
   "pygments_lexer": "ipython3",
   "version": "3.6.4"
  }
 },
 "nbformat": 4,
 "nbformat_minor": 2
}
