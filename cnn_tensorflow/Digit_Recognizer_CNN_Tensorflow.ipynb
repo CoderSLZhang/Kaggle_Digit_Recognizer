{
 "cells": [
  {
   "cell_type": "code",
   "execution_count": 3,
   "metadata": {},
   "outputs": [],
   "source": [
    "import tensorflow as tf\n",
    "import numpy as np\n",
    "import pandas as pd\n",
    "from matplotlib import pylab as plt\n",
    "import os\n",
    "\n",
    "%matplotlib inline"
   ]
  },
  {
   "cell_type": "markdown",
   "metadata": {},
   "source": [
    "## 探索数据集"
   ]
  },
  {
   "cell_type": "code",
   "execution_count": 2,
   "metadata": {},
   "outputs": [
    {
     "data": {
      "text/plain": [
       "((42000, 785), (28000, 784))"
      ]
     },
     "execution_count": 2,
     "metadata": {},
     "output_type": "execute_result"
    }
   ],
   "source": [
    "df_train = pd.read_csv('../data/train.csv')\n",
    "df_test = pd.read_csv('../data/test.csv')\n",
    "df_train.shape, df_test.shape"
   ]
  },
  {
   "cell_type": "code",
   "execution_count": 3,
   "metadata": {},
   "outputs": [
    {
     "data": {
      "text/html": [
       "<div>\n",
       "<style scoped>\n",
       "    .dataframe tbody tr th:only-of-type {\n",
       "        vertical-align: middle;\n",
       "    }\n",
       "\n",
       "    .dataframe tbody tr th {\n",
       "        vertical-align: top;\n",
       "    }\n",
       "\n",
       "    .dataframe thead th {\n",
       "        text-align: right;\n",
       "    }\n",
       "</style>\n",
       "<table border=\"1\" class=\"dataframe\">\n",
       "  <thead>\n",
       "    <tr style=\"text-align: right;\">\n",
       "      <th></th>\n",
       "      <th>label</th>\n",
       "      <th>pixel0</th>\n",
       "      <th>pixel1</th>\n",
       "      <th>pixel2</th>\n",
       "      <th>pixel3</th>\n",
       "      <th>pixel4</th>\n",
       "      <th>pixel5</th>\n",
       "      <th>pixel6</th>\n",
       "      <th>pixel7</th>\n",
       "      <th>pixel8</th>\n",
       "      <th>...</th>\n",
       "      <th>pixel774</th>\n",
       "      <th>pixel775</th>\n",
       "      <th>pixel776</th>\n",
       "      <th>pixel777</th>\n",
       "      <th>pixel778</th>\n",
       "      <th>pixel779</th>\n",
       "      <th>pixel780</th>\n",
       "      <th>pixel781</th>\n",
       "      <th>pixel782</th>\n",
       "      <th>pixel783</th>\n",
       "    </tr>\n",
       "  </thead>\n",
       "  <tbody>\n",
       "    <tr>\n",
       "      <th>0</th>\n",
       "      <td>1</td>\n",
       "      <td>0</td>\n",
       "      <td>0</td>\n",
       "      <td>0</td>\n",
       "      <td>0</td>\n",
       "      <td>0</td>\n",
       "      <td>0</td>\n",
       "      <td>0</td>\n",
       "      <td>0</td>\n",
       "      <td>0</td>\n",
       "      <td>...</td>\n",
       "      <td>0</td>\n",
       "      <td>0</td>\n",
       "      <td>0</td>\n",
       "      <td>0</td>\n",
       "      <td>0</td>\n",
       "      <td>0</td>\n",
       "      <td>0</td>\n",
       "      <td>0</td>\n",
       "      <td>0</td>\n",
       "      <td>0</td>\n",
       "    </tr>\n",
       "  </tbody>\n",
       "</table>\n",
       "<p>1 rows × 785 columns</p>\n",
       "</div>"
      ],
      "text/plain": [
       "   label  pixel0  pixel1  pixel2  pixel3  pixel4  pixel5  pixel6  pixel7  \\\n",
       "0      1       0       0       0       0       0       0       0       0   \n",
       "\n",
       "   pixel8    ...     pixel774  pixel775  pixel776  pixel777  pixel778  \\\n",
       "0       0    ...            0         0         0         0         0   \n",
       "\n",
       "   pixel779  pixel780  pixel781  pixel782  pixel783  \n",
       "0         0         0         0         0         0  \n",
       "\n",
       "[1 rows x 785 columns]"
      ]
     },
     "execution_count": 3,
     "metadata": {},
     "output_type": "execute_result"
    }
   ],
   "source": [
    "df_train.head(1)"
   ]
  },
  {
   "cell_type": "code",
   "execution_count": 4,
   "metadata": {},
   "outputs": [
    {
     "data": {
      "text/html": [
       "<div>\n",
       "<style scoped>\n",
       "    .dataframe tbody tr th:only-of-type {\n",
       "        vertical-align: middle;\n",
       "    }\n",
       "\n",
       "    .dataframe tbody tr th {\n",
       "        vertical-align: top;\n",
       "    }\n",
       "\n",
       "    .dataframe thead th {\n",
       "        text-align: right;\n",
       "    }\n",
       "</style>\n",
       "<table border=\"1\" class=\"dataframe\">\n",
       "  <thead>\n",
       "    <tr style=\"text-align: right;\">\n",
       "      <th></th>\n",
       "      <th>pixel0</th>\n",
       "      <th>pixel1</th>\n",
       "      <th>pixel2</th>\n",
       "      <th>pixel3</th>\n",
       "      <th>pixel4</th>\n",
       "      <th>pixel5</th>\n",
       "      <th>pixel6</th>\n",
       "      <th>pixel7</th>\n",
       "      <th>pixel8</th>\n",
       "      <th>pixel9</th>\n",
       "      <th>...</th>\n",
       "      <th>pixel774</th>\n",
       "      <th>pixel775</th>\n",
       "      <th>pixel776</th>\n",
       "      <th>pixel777</th>\n",
       "      <th>pixel778</th>\n",
       "      <th>pixel779</th>\n",
       "      <th>pixel780</th>\n",
       "      <th>pixel781</th>\n",
       "      <th>pixel782</th>\n",
       "      <th>pixel783</th>\n",
       "    </tr>\n",
       "  </thead>\n",
       "  <tbody>\n",
       "    <tr>\n",
       "      <th>0</th>\n",
       "      <td>0</td>\n",
       "      <td>0</td>\n",
       "      <td>0</td>\n",
       "      <td>0</td>\n",
       "      <td>0</td>\n",
       "      <td>0</td>\n",
       "      <td>0</td>\n",
       "      <td>0</td>\n",
       "      <td>0</td>\n",
       "      <td>0</td>\n",
       "      <td>...</td>\n",
       "      <td>0</td>\n",
       "      <td>0</td>\n",
       "      <td>0</td>\n",
       "      <td>0</td>\n",
       "      <td>0</td>\n",
       "      <td>0</td>\n",
       "      <td>0</td>\n",
       "      <td>0</td>\n",
       "      <td>0</td>\n",
       "      <td>0</td>\n",
       "    </tr>\n",
       "  </tbody>\n",
       "</table>\n",
       "<p>1 rows × 784 columns</p>\n",
       "</div>"
      ],
      "text/plain": [
       "   pixel0  pixel1  pixel2  pixel3  pixel4  pixel5  pixel6  pixel7  pixel8  \\\n",
       "0       0       0       0       0       0       0       0       0       0   \n",
       "\n",
       "   pixel9    ...     pixel774  pixel775  pixel776  pixel777  pixel778  \\\n",
       "0       0    ...            0         0         0         0         0   \n",
       "\n",
       "   pixel779  pixel780  pixel781  pixel782  pixel783  \n",
       "0         0         0         0         0         0  \n",
       "\n",
       "[1 rows x 784 columns]"
      ]
     },
     "execution_count": 4,
     "metadata": {},
     "output_type": "execute_result"
    }
   ],
   "source": [
    "df_test.head(1)"
   ]
  },
  {
   "cell_type": "code",
   "execution_count": 5,
   "metadata": {},
   "outputs": [
    {
     "data": {
      "text/plain": [
       "255"
      ]
     },
     "execution_count": 5,
     "metadata": {},
     "output_type": "execute_result"
    }
   ],
   "source": [
    "df_test.values.max()"
   ]
  },
  {
   "cell_type": "code",
   "execution_count": 6,
   "metadata": {},
   "outputs": [
    {
     "data": {
      "text/plain": [
       "1    4684\n",
       "7    4401\n",
       "3    4351\n",
       "9    4188\n",
       "2    4177\n",
       "6    4137\n",
       "0    4132\n",
       "4    4072\n",
       "8    4063\n",
       "5    3795\n",
       "Name: label, dtype: int64"
      ]
     },
     "execution_count": 6,
     "metadata": {},
     "output_type": "execute_result"
    }
   ],
   "source": [
    "df_train.iloc[:, 0].value_counts()"
   ]
  },
  {
   "cell_type": "code",
   "execution_count": 7,
   "metadata": {},
   "outputs": [
    {
     "data": {
      "image/png": "[encoded data removed]",
      "text/plain": [
       "<matplotlib.figure.Figure at 0x109fd3748>"
      ]
     },
     "metadata": {},
     "output_type": "display_data"
    }
   ],
   "source": [
    "example_imgs = df_test.iloc[:10].values.reshape(-1, 28, 28)\n",
    "\n",
    "plt.rcParams['figure.figsize'] = (15, 6)\n",
    "plt.rcParams['image.cmap'] = 'gray'\n",
    "for index, img in enumerate(example_imgs):\n",
    "    plt.subplot(2, 5, index+1)\n",
    "    plt.imshow(img)"
   ]
  },
  {
   "cell_type": "markdown",
   "metadata": {},
   "source": [
    "## 划分数据集"
   ]
  },
  {
   "cell_type": "code",
   "execution_count": 8,
   "metadata": {},
   "outputs": [
    {
     "data": {
      "text/plain": [
       "((42000, 28, 28, 1), (42000, 1), (28000, 28, 28, 1))"
      ]
     },
     "execution_count": 8,
     "metadata": {},
     "output_type": "execute_result"
    }
   ],
   "source": [
    "X_total = df_train.iloc[:, 1:].values.reshape(-1, 28, 28, 1)\n",
    "Y_total = df_train.iloc[:, 0].values.reshape(-1, 1)\n",
    "X_test = df_test.values.reshape(-1, 28, 28, 1)\n",
    "\n",
    "X_total.shape, Y_total.shape, X_test.shape"
   ]
  },
  {
   "cell_type": "code",
   "execution_count": 9,
   "metadata": {},
   "outputs": [],
   "source": [
    "shuffle_indexs = np.random.permutation(X_total.shape[0])\n",
    "X_total_shuffle = X_total[shuffle_indexs]\n",
    "Y_total_shuffle = Y_total[shuffle_indexs]"
   ]
  },
  {
   "cell_type": "code",
   "execution_count": 10,
   "metadata": {},
   "outputs": [],
   "source": [
    "dev_size = 6000\n",
    "\n",
    "X_dev = X_total_shuffle[:dev_size]\n",
    "Y_dev = Y_total_shuffle[:dev_size]\n",
    "X_train = X_total_shuffle[dev_size:]\n",
    "Y_train = Y_total_shuffle[dev_size:]"
   ]
  },
  {
   "cell_type": "markdown",
   "metadata": {},
   "source": [
    "## 数据生成器"
   ]
  },
  {
   "cell_type": "markdown",
   "metadata": {},
   "source": [
    "#### 数据增强"
   ]
  },
  {
   "cell_type": "code",
   "execution_count": 11,
   "metadata": {},
   "outputs": [],
   "source": [
    "def data_augmentation(X, Y=None):\n",
    "    if Y is None:\n",
    "        return X\n",
    "    else:\n",
    "        return X, Y"
   ]
  },
  {
   "cell_type": "markdown",
   "metadata": {},
   "source": [
    "#### 数据归一化"
   ]
  },
  {
   "cell_type": "code",
   "execution_count": 12,
   "metadata": {},
   "outputs": [],
   "source": [
    "def normalize_data(X, Y=None):\n",
    "    if Y is None:\n",
    "        return X / 255\n",
    "    else:\n",
    "        return X / 255, Y"
   ]
  },
  {
   "cell_type": "markdown",
   "metadata": {},
   "source": [
    "#### mini batch 生成器"
   ]
  },
  {
   "cell_type": "code",
   "execution_count": 140,
   "metadata": {},
   "outputs": [],
   "source": [
    "def batch_gen(X, Y, batch_size, repeat=1, num_parallels=4, augmentation=False):\n",
    "    m = X.shape[0]\n",
    "    steps_per_epoch = np.ceil(m / batch_size)\n",
    "    \n",
    "    if Y is None:\n",
    "        dataset = tf.data.Dataset.from_tensor_slices(X)\n",
    "    else:\n",
    "        dataset = tf.data.Dataset.from_tensor_slices((X, Y))\n",
    "        \n",
    "    if augmentation:\n",
    "        dataset = dataset.map(data_augmentation, num_parallels)\n",
    "        \n",
    "    dataset = dataset.map(normalize_data, num_parallels)\n",
    "    dataset = dataset.batch(batch_size)\n",
    "    dataset = dataset.shuffle(buffer_size=10000)\n",
    "    dataset = dataset.repeat(repeat)\n",
    "    \n",
    "    iterator = dataset.make_one_shot_iterator()\n",
    "    \n",
    "    return iterator.get_next(), steps_per_epoch"
   ]
  },
  {
   "cell_type": "markdown",
   "metadata": {},
   "source": [
    "## 构建神经网络"
   ]
  },
  {
   "cell_type": "code",
   "execution_count": 141,
   "metadata": {},
   "outputs": [],
   "source": [
    "def build_placeholder():\n",
    "    with tf.name_scope('input_placeholder'):\n",
    "        X = tf.placeholder(dtype=tf.float32, shape=(None, 28, 28, 1), name='input_X')\n",
    "        Y = tf.placeholder(dtype=tf.int32, shape=(None, 1), name='lable_Y')\n",
    "        training = tf.placeholder(dtype=tf.bool, name='training')\n",
    "    \n",
    "    return X, Y, training"
   ]
  },
  {
   "cell_type": "code",
   "execution_count": 142,
   "metadata": {},
   "outputs": [],
   "source": [
    "def build_conv_layer(inputs, training, keep_prob, filters, kernel_size, strides, name):\n",
    "    with tf.name_scope('conv_layer_' + name):\n",
    "        Z = tf.layers.conv2d(inputs, filters=filters, kernel_size=kernel_size, strides=strides, \n",
    "                             padding='same', use_bias=False, \n",
    "                             kernel_initializer=tf.contrib.layers.xavier_initializer_conv2d())\n",
    "        \n",
    "        Z_batch_norm = tf.layers.batch_normalization(inputs, training=training)\n",
    "        \n",
    "        A = tf.nn.relu(Z_batch_norm)\n",
    "        \n",
    "        A_dropout = tf.nn.dropout(A, keep_prob)\n",
    "        \n",
    "    return A_dropout"
   ]
  },
  {
   "cell_type": "code",
   "execution_count": 143,
   "metadata": {},
   "outputs": [],
   "source": [
    "def build_max_pool(inputs, pool_size, strides, name):\n",
    "    with tf.name_scope('max_pool_' + name):\n",
    "        pool = tf.layers.max_pooling2d(inputs, pool_size, strides, name='max_pool')\n",
    "        \n",
    "    return pool"
   ]
  },
  {
   "cell_type": "code",
   "execution_count": 144,
   "metadata": {},
   "outputs": [],
   "source": [
    "def build_flatten_layer(inputs):\n",
    "    with tf.name_scope('flatten_layer'):\n",
    "        flatten = tf.layers.flatten(inputs)\n",
    "        \n",
    "    return flatten"
   ]
  },
  {
   "cell_type": "code",
   "execution_count": 145,
   "metadata": {},
   "outputs": [],
   "source": [
    "def build_softmax_layer(inputs):\n",
    "    with tf.name_scope('softmax_layer'):\n",
    "        Z = tf.layers.dense(inputs, 10, kernel_initializer=tf.contrib.layers.xavier_initializer())\n",
    "        A = tf.nn.softmax(Z)\n",
    "        \n",
    "    return Z, A"
   ]
  },
  {
   "cell_type": "code",
   "execution_count": 146,
   "metadata": {},
   "outputs": [],
   "source": [
    "def build_cost(logits, labels):\n",
    "    with tf.name_scope('cost'):\n",
    "        labels_onehot = tf.one_hot(labels, 10, axis=-1)\n",
    "        cost = tf.reduce_mean(tf.nn.softmax_cross_entropy_with_logits_v2(labels=labels_onehot, logits=logits))\n",
    "    \n",
    "    return cost"
   ]
  },
  {
   "cell_type": "code",
   "execution_count": 147,
   "metadata": {},
   "outputs": [],
   "source": [
    "def build_accuracy(outputs, labels):\n",
    "    with tf.name_scope('accuracy'):\n",
    "        predicts = tf.argmax(outputs, axis=-1, output_type=tf.int32)\n",
    "        is_rights = tf.equal(predicts, tf.reshape(labels, (-1,)))\n",
    "        accuracy = tf.reduce_mean(tf.cast(is_rights, tf.float32))\n",
    "    \n",
    "    return accuracy"
   ]
  },
  {
   "cell_type": "code",
   "execution_count": 148,
   "metadata": {},
   "outputs": [],
   "source": [
    "def build_foreward(X, Y, training, keep_prob):    \n",
    "    conv1 = build_conv_layer(X, training, keep_prob, 8, (3, 3), (1, 1), '1')\n",
    "    conv2 = build_conv_layer(conv1, training, keep_prob, 8, (3, 3), (1, 1), '2')\n",
    "    max_pool2 = build_max_pool(conv2, (2, 2), (2, 2), '2')\n",
    "    \n",
    "    conv3 = build_conv_layer(max_pool2, training, keep_prob, 16, (3, 3), (1, 1), '3')\n",
    "    conv4 = build_conv_layer(conv3, training, keep_prob, 16, (3, 3), (1, 1), '4')\n",
    "    \n",
    "    flatten = build_flatten_layer(conv3)\n",
    "    \n",
    "    logits, outputs = build_softmax_layer(flatten)\n",
    "    \n",
    "    return logits, outputs"
   ]
  },
  {
   "cell_type": "code",
   "execution_count": 149,
   "metadata": {},
   "outputs": [],
   "source": [
    "CKPT_PATH = './model_save/model.ckpt'\n",
    "COSTS_PATH = './model_save/costs_save.npy'\n",
    "ACCS_PATH = './model_save/accs_save.npy'\n",
    "STEPS_PATH = './model_save/step_save.npy'"
   ]
  },
  {
   "cell_type": "markdown",
   "metadata": {},
   "source": [
    "#### 训练"
   ]
  },
  {
   "cell_type": "code",
   "execution_count": 150,
   "metadata": {},
   "outputs": [],
   "source": [
    "def train(lr, keep_prob, batch_size, epochs, print_step, metrics_step, resume=True):\n",
    "    tf.reset_default_graph()\n",
    "    \n",
    "    X_pl, Y_pl, training_pl = build_placeholder()\n",
    "    logits_op, outputs_op = build_foreward(X_pl, Y_pl, training_pl, keep_prob)\n",
    "    cost_op = build_cost(logits_op, Y_pl)\n",
    "    accuracy_op = build_accuracy(outputs_op, Y_pl)\n",
    "    \n",
    "    with tf.control_dependencies(tf.get_collection(tf.GraphKeys.UPDATE_OPS)):\n",
    "        optimizer_op = tf.train.AdamOptimizer(lr).minimize(cost_op)\n",
    "    \n",
    "    train_next_op, train_steps_per_epoch = batch_gen(X_train, Y_train, batch_size, epochs, augmentation=True)\n",
    "    dev_next_op, _ = batch_gen(X_dev, Y_dev, batch_size, epochs)\n",
    "    \n",
    "    sess = tf.Session()\n",
    "    \n",
    "    sess.run(tf.global_variables_initializer())\n",
    "    \n",
    "    epoch = 1\n",
    "    step = 1\n",
    "    cost_list = []\n",
    "    acc_list = []\n",
    "    \n",
    "    saver = tf.train.Saver()\n",
    "    if resume:\n",
    "        saver.restore(sess, CKPT_PATH)\n",
    "        cost_list = list(np.load(COSTS_PATH))\n",
    "        acc_list = list(np.load(ACCS_PATH))\n",
    "        step = np.load(STEPS_PATH)\n",
    "        epoch = int(np.ceil(step / train_steps_per_epoch)) + 1\n",
    "    \n",
    "    try:\n",
    "        while True:\n",
    "            train_X_batch, train_Y_batch = sess.run(train_next_op)\n",
    "\n",
    "            _, cost, train_batch_accuracy = sess.run((optimizer_op, cost_op, accuracy_op), feed_dict={\n",
    "                X_pl: train_X_batch,\n",
    "                Y_pl: train_Y_batch,\n",
    "                training_pl: True\n",
    "            })\n",
    "            \n",
    "            if step % print_step == 0:\n",
    "                print('epoch:{0} - step:{1} - cost:{2:.4f} - accuracy:%{3:.2f}'.format(\n",
    "                    epoch, step, cost, train_batch_accuracy * 100))\n",
    "                \n",
    "            if step % metrics_step == 0:\n",
    "                cost_list.append(cost)\n",
    "                acc_list.append(train_batch_accuracy)\n",
    "            \n",
    "            step += 1\n",
    "            if step % train_steps_per_epoch == 0:\n",
    "                epoch += 1\n",
    "    except tf.errors.OutOfRangeError:\n",
    "        pass\n",
    "\n",
    "    saver.save(sess, CKPT_PATH)\n",
    "    np.save(COSTS_PATH, cost_list)\n",
    "    np.save(ACCS_PATH, acc_list)\n",
    "    np.save(STEPS_PATH, step - 1)\n",
    "    \n",
    "    sess.close()\n",
    "    \n",
    "    return cost_list, acc_list"
   ]
  },
  {
   "cell_type": "markdown",
   "metadata": {},
   "source": [
    "#### 参数"
   ]
  },
  {
   "cell_type": "code",
   "execution_count": 151,
   "metadata": {},
   "outputs": [],
   "source": [
    "LR = 0.0001\n",
    "KEEP_PROB = 1\n",
    "BATCH_SIZE = 16\n",
    "EPOCHS = 5\n",
    "PRINT_STEP = 500\n",
    "METRICS_STEP = 100\n",
    "RESUME = False"
   ]
  },
  {
   "cell_type": "code",
   "execution_count": 152,
   "metadata": {},
   "outputs": [
    {
     "name": "stdout",
     "output_type": "stream",
     "text": [
      "epoch:1 - step:500 - cost:1.8878 - accuracy:%31.25\n",
      "epoch:1 - step:1000 - cost:1.3838 - accuracy:%68.75\n",
      "epoch:1 - step:1500 - cost:1.0760 - accuracy:%62.50\n",
      "epoch:1 - step:2000 - cost:0.7594 - accuracy:%62.50\n",
      "epoch:2 - step:2500 - cost:0.4875 - accuracy:%100.00\n",
      "epoch:2 - step:3000 - cost:0.6642 - accuracy:%87.50\n",
      "epoch:2 - step:3500 - cost:0.6023 - accuracy:%75.00\n",
      "epoch:2 - step:4000 - cost:0.7894 - accuracy:%68.75\n",
      "epoch:3 - step:4500 - cost:0.3951 - accuracy:%93.75\n",
      "epoch:3 - step:5000 - cost:0.3124 - accuracy:%87.50\n",
      "epoch:3 - step:5500 - cost:0.4196 - accuracy:%81.25\n",
      "epoch:3 - step:6000 - cost:0.2200 - accuracy:%93.75\n",
      "epoch:3 - step:6500 - cost:1.0009 - accuracy:%75.00\n",
      "epoch:4 - step:7000 - cost:0.5644 - accuracy:%81.25\n",
      "epoch:4 - step:7500 - cost:0.6050 - accuracy:%75.00\n",
      "epoch:4 - step:8000 - cost:0.6510 - accuracy:%81.25\n",
      "epoch:4 - step:8500 - cost:0.3250 - accuracy:%93.75\n",
      "epoch:5 - step:9000 - cost:0.5096 - accuracy:%87.50\n",
      "epoch:5 - step:9500 - cost:0.2241 - accuracy:%93.75\n",
      "epoch:5 - step:10000 - cost:0.2418 - accuracy:%87.50\n",
      "epoch:5 - step:10500 - cost:0.4084 - accuracy:%81.25\n",
      "epoch:5 - step:11000 - cost:0.6335 - accuracy:%81.25\n"
     ]
    }
   ],
   "source": [
    "costs, accs = train(lr=LR, keep_prob=KEEP_PROB, batch_size=BATCH_SIZE, \n",
    "                    epochs=EPOCHS, print_step=PRINT_STEP, metrics_step=METRICS_STEP, resume=RESUME)"
   ]
  },
  {
   "cell_type": "markdown",
   "metadata": {},
   "source": [
    "#### 训练曲线"
   ]
  },
  {
   "cell_type": "code",
   "execution_count": 153,
   "metadata": {},
   "outputs": [],
   "source": [
    "def plot(x, y, xlabel, ylabel, title):\n",
    "    plt.plot(x, y)\n",
    "    plt.xlabel(xlabel)\n",
    "    plt.ylabel(ylabel)\n",
    "    plt.title(title)"
   ]
  },
  {
   "cell_type": "code",
   "execution_count": 154,
   "metadata": {},
   "outputs": [
    {
     "data": {
      "image/png": "[encoded data removed]",
      "text/plain": [
       "<matplotlib.figure.Figure at 0x182a223f98>"
      ]
     },
     "metadata": {},
     "output_type": "display_data"
    }
   ],
   "source": [
    "x_plot = list(range(1, (len(costs)) * PRINT_STEP, PRINT_STEP))\n",
    "plot(x_plot, costs, 'steps', 'cost', 'steps - cost')"
   ]
  },
  {
   "cell_type": "code",
   "execution_count": 155,
   "metadata": {},
   "outputs": [
    {
     "data": {
      "image/png": "[encoded data removed]",
      "text/plain": [
       "<matplotlib.figure.Figure at 0x182ef6e9b0>"
      ]
     },
     "metadata": {},
     "output_type": "display_data"
    }
   ],
   "source": [
    "plot(x_plot, accs, 'steps', 'accuracy', 'steps - accuracy')"
   ]
  },
  {
   "cell_type": "markdown",
   "metadata": {},
   "source": [
    "#### 在验证集上评估训练结果"
   ]
  },
  {
   "cell_type": "code",
   "execution_count": 156,
   "metadata": {},
   "outputs": [],
   "source": [
    "def evaluate(batch_size=16):\n",
    "    tf.reset_default_graph()\n",
    "    \n",
    "    X_pl, Y_pl, training_pl = build_placeholder()\n",
    "    logits_op, outputs_op = build_foreward(X_pl, Y_pl, training_pl, 1)\n",
    "    accuracy_op = build_accuracy(outputs_op, Y_pl)\n",
    "    \n",
    "    train_next_op, _ = batch_gen(X_train, Y_train, batch_size, 1)\n",
    "    dev_next_op, _ = batch_gen(X_dev, Y_dev, batch_size, 1)\n",
    "    \n",
    "    sess = tf.Session()\n",
    "    \n",
    "    sess.run(tf.global_variables_initializer())\n",
    "    \n",
    "    saver = tf.train.Saver()\n",
    "    saver.restore(sess, CKPT_PATH)\n",
    "    \n",
    "    train_acc_list = []\n",
    "    dev_acc_list = []\n",
    "    \n",
    "    try:\n",
    "        while True:\n",
    "            train_X_batch, train_Y_batch = sess.run(train_next_op)\n",
    "\n",
    "            train_batch_accuracy = sess.run(accuracy_op, feed_dict={\n",
    "                X_pl: train_X_batch,\n",
    "                Y_pl: train_Y_batch,\n",
    "                training_pl: False\n",
    "            })\n",
    "            \n",
    "            train_acc_list.append(train_batch_accuracy)\n",
    "    except tf.errors.OutOfRangeError:\n",
    "        pass\n",
    "    \n",
    "    try:\n",
    "        while True:\n",
    "            dev_X_batch, dev_Y_batch = sess.run(dev_next_op)\n",
    "\n",
    "            dev_batch_accuracy = sess.run(accuracy_op, feed_dict={\n",
    "                X_pl: dev_X_batch,\n",
    "                Y_pl: dev_Y_batch,\n",
    "                training_pl: False\n",
    "            })\n",
    "            \n",
    "            dev_acc_list.append(dev_batch_accuracy)\n",
    "    except tf.errors.OutOfRangeError:\n",
    "        pass\n",
    "    \n",
    "    train_acc = np.mean(train_acc_list)\n",
    "    dev_acc = np.mean(dev_acc_list)\n",
    "    \n",
    "    print('train_accuracy: %{:.2f}'.format(train_acc * 100))\n",
    "    print('dev_accuracy: %{:.2f}'.format(dev_acc * 100))\n",
    "    \n",
    "    sess.close()"
   ]
  },
  {
   "cell_type": "code",
   "execution_count": 157,
   "metadata": {},
   "outputs": [
    {
     "name": "stdout",
     "output_type": "stream",
     "text": [
      "INFO:tensorflow:Restoring parameters from ./model_save/model.ckpt\n",
      "train_accuracy: %89.07\n",
      "dev_accuracy: %88.63\n"
     ]
    }
   ],
   "source": [
    "evaluate()"
   ]
  },
  {
   "cell_type": "markdown",
   "metadata": {},
   "source": [
    "#### 预测"
   ]
  },
  {
   "cell_type": "code",
   "execution_count": 158,
   "metadata": {},
   "outputs": [],
   "source": [
    "def predict(X, batch_size=16):\n",
    "    tf.reset_default_graph()\n",
    "    \n",
    "    X_pl, Y_pl, training_pl = build_placeholder()\n",
    "    _, outputs_op = build_foreward(X_pl, Y_pl, training_pl, 1)\n",
    "    \n",
    "    next_op, _ = batch_gen(X, None, batch_size, 1)\n",
    "    \n",
    "    sess = tf.Session()\n",
    "    \n",
    "    sess.run(tf.global_variables_initializer())\n",
    "    \n",
    "    saver = tf.train.Saver()\n",
    "    saver.restore(sess, CKPT_PATH)\n",
    "    \n",
    "    output_list = []\n",
    "    \n",
    "    try:\n",
    "        while True:\n",
    "            X_batch = sess.run(next_op)\n",
    "\n",
    "            output_batch = sess.run(outputs_op, feed_dict={\n",
    "                X_pl: X_batch,\n",
    "                training_pl: False\n",
    "            })\n",
    "            \n",
    "            output_list.append(np.argmax(output_batch, axis=-1))\n",
    "    except tf.errors.OutOfRangeError:\n",
    "        pass\n",
    "    \n",
    "    sess.close()\n",
    "    \n",
    "    return np.concatenate(output_list, axis=0)"
   ]
  },
  {
   "cell_type": "code",
   "execution_count": 159,
   "metadata": {},
   "outputs": [
    {
     "name": "stdout",
     "output_type": "stream",
     "text": [
      "INFO:tensorflow:Restoring parameters from ./model_save/model.ckpt\n"
     ]
    },
    {
     "data": {
      "text/plain": [
       "(28000,)"
      ]
     },
     "execution_count": 159,
     "metadata": {},
     "output_type": "execute_result"
    }
   ],
   "source": [
    "predictions = predict(X_test)\n",
    "predictions.shape"
   ]
  },
  {
   "cell_type": "markdown",
   "metadata": {},
   "source": [
    "#### 预测结果写入csv文件"
   ]
  },
  {
   "cell_type": "code",
   "execution_count": 160,
   "metadata": {},
   "outputs": [],
   "source": [
    "PREDICTIONS_PATH = './test.csv'"
   ]
  },
  {
   "cell_type": "code",
   "execution_count": 161,
   "metadata": {},
   "outputs": [],
   "source": [
    "def save_predictions_to_csv(predictions, save_path):\n",
    "    df = pd.DataFrame({\n",
    "        'ImageId': np.arange(1, predictions.shape[0] + 1),\n",
    "        'Label': predictions,\n",
    "    })\n",
    "    \n",
    "    df.to_csv(save_path, index=False)\n",
    "    \n",
    "    return df"
   ]
  },
  {
   "cell_type": "code",
   "execution_count": 162,
   "metadata": {},
   "outputs": [
    {
     "data": {
      "text/html": [
       "<div>\n",
       "<style scoped>\n",
       "    .dataframe tbody tr th:only-of-type {\n",
       "        vertical-align: middle;\n",
       "    }\n",
       "\n",
       "    .dataframe tbody tr th {\n",
       "        vertical-align: top;\n",
       "    }\n",
       "\n",
       "    .dataframe thead th {\n",
       "        text-align: right;\n",
       "    }\n",
       "</style>\n",
       "<table border=\"1\" class=\"dataframe\">\n",
       "  <thead>\n",
       "    <tr style=\"text-align: right;\">\n",
       "      <th></th>\n",
       "      <th>ImageId</th>\n",
       "      <th>Label</th>\n",
       "    </tr>\n",
       "  </thead>\n",
       "  <tbody>\n",
       "    <tr>\n",
       "      <th>0</th>\n",
       "      <td>1</td>\n",
       "      <td>5</td>\n",
       "    </tr>\n",
       "    <tr>\n",
       "      <th>1</th>\n",
       "      <td>2</td>\n",
       "      <td>2</td>\n",
       "    </tr>\n",
       "    <tr>\n",
       "      <th>2</th>\n",
       "      <td>3</td>\n",
       "      <td>7</td>\n",
       "    </tr>\n",
       "  </tbody>\n",
       "</table>\n",
       "</div>"
      ],
      "text/plain": [
       "   ImageId  Label\n",
       "0        1      5\n",
       "1        2      2\n",
       "2        3      7"
      ]
     },
     "execution_count": 162,
     "metadata": {},
     "output_type": "execute_result"
    }
   ],
   "source": [
    "pre_df = save_predictions_to_csv(preditions, PREDICTIONS_PATH)\n",
    "pre_df.head(3)"
   ]
  },
  {
   "cell_type": "code",
   "execution_count": null,
   "metadata": {},
   "outputs": [],
   "source": []
  }
 ],
 "metadata": {
  "kernelspec": {
   "display_name": "Python 3",
   "language": "python",
   "name": "python3"
  },
  "language_info": {
   "codemirror_mode": {
    "name": "ipython",
    "version": 3
   },
   "file_extension": ".py",
   "mimetype": "text/x-python",
   "name": "python",
   "nbconvert_exporter": "python",
   "pygments_lexer": "ipython3",
   "version": "3.6.4"
  }
 },
 "nbformat": 4,
 "nbformat_minor": 2
}
