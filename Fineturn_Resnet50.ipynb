{
 "cells": [
  {
   "cell_type": "code",
   "execution_count": 1,
   "metadata": {},
   "outputs": [],
   "source": [
    "import tensorflow as tf\n",
    "from tensorflow import keras\n",
    "import numpy as np\n",
    "import pandas as pd\n",
    "from matplotlib import pylab as plt\n",
    "import h5py\n",
    "import os\n",
    "import sys\n",
    "\n",
    "%matplotlib inline"
   ]
  },
  {
   "cell_type": "markdown",
   "metadata": {},
   "source": [
    "## 文件路径"
   ]
  },
  {
   "cell_type": "code",
   "execution_count": 2,
   "metadata": {
    "collapsed": true
   },
   "outputs": [],
   "source": [
    "TRAIN_CSV = './data/train.csv'\n",
    "TEST_CSV = './data/test.csv'\n",
    "MODEL_SAVE = './model_save/model.ckpt'\n",
    "TRAIN_FEATURE_SAVE = './features_save/total_features.h5'\n",
    "TEST_FEATURE_SAVE = './features_save/test_features.h5'\n",
    "PREDICT_CSV_DIR = './predicts_save/'\n",
    "\n",
    "if not os.path.exists('./model_save/'):\n",
    "    os.mkdir('./model_save/')\n",
    "    \n",
    "if not os.path.exists('./features_save/'):\n",
    "    os.mkdir('./features_save/')\n",
    "    \n",
    "if not os.path.exists('./predicts_save/'):\n",
    "    os.mkdir('./predicts_save/')"
   ]
  },
  {
   "cell_type": "markdown",
   "metadata": {},
   "source": [
    "## 数据准备"
   ]
  },
  {
   "cell_type": "markdown",
   "metadata": {},
   "source": [
    "### 读取数据"
   ]
  },
  {
   "cell_type": "code",
   "execution_count": 3,
   "metadata": {},
   "outputs": [
    {
     "data": {
      "text/html": [
       "<div>\n",
       "<style>\n",
       "    .dataframe thead tr:only-child th {\n",
       "        text-align: right;\n",
       "    }\n",
       "\n",
       "    .dataframe thead th {\n",
       "        text-align: left;\n",
       "    }\n",
       "\n",
       "    .dataframe tbody tr th {\n",
       "        vertical-align: top;\n",
       "    }\n",
       "</style>\n",
       "<table border=\"1\" class=\"dataframe\">\n",
       "  <thead>\n",
       "    <tr style=\"text-align: right;\">\n",
       "      <th></th>\n",
       "      <th>label</th>\n",
       "      <th>pixel0</th>\n",
       "      <th>pixel1</th>\n",
       "      <th>pixel2</th>\n",
       "      <th>pixel3</th>\n",
       "      <th>pixel4</th>\n",
       "      <th>pixel5</th>\n",
       "      <th>pixel6</th>\n",
       "      <th>pixel7</th>\n",
       "      <th>pixel8</th>\n",
       "      <th>...</th>\n",
       "      <th>pixel774</th>\n",
       "      <th>pixel775</th>\n",
       "      <th>pixel776</th>\n",
       "      <th>pixel777</th>\n",
       "      <th>pixel778</th>\n",
       "      <th>pixel779</th>\n",
       "      <th>pixel780</th>\n",
       "      <th>pixel781</th>\n",
       "      <th>pixel782</th>\n",
       "      <th>pixel783</th>\n",
       "    </tr>\n",
       "  </thead>\n",
       "  <tbody>\n",
       "    <tr>\n",
       "      <th>0</th>\n",
       "      <td>1</td>\n",
       "      <td>0</td>\n",
       "      <td>0</td>\n",
       "      <td>0</td>\n",
       "      <td>0</td>\n",
       "      <td>0</td>\n",
       "      <td>0</td>\n",
       "      <td>0</td>\n",
       "      <td>0</td>\n",
       "      <td>0</td>\n",
       "      <td>...</td>\n",
       "      <td>0</td>\n",
       "      <td>0</td>\n",
       "      <td>0</td>\n",
       "      <td>0</td>\n",
       "      <td>0</td>\n",
       "      <td>0</td>\n",
       "      <td>0</td>\n",
       "      <td>0</td>\n",
       "      <td>0</td>\n",
       "      <td>0</td>\n",
       "    </tr>\n",
       "    <tr>\n",
       "      <th>1</th>\n",
       "      <td>0</td>\n",
       "      <td>0</td>\n",
       "      <td>0</td>\n",
       "      <td>0</td>\n",
       "      <td>0</td>\n",
       "      <td>0</td>\n",
       "      <td>0</td>\n",
       "      <td>0</td>\n",
       "      <td>0</td>\n",
       "      <td>0</td>\n",
       "      <td>...</td>\n",
       "      <td>0</td>\n",
       "      <td>0</td>\n",
       "      <td>0</td>\n",
       "      <td>0</td>\n",
       "      <td>0</td>\n",
       "      <td>0</td>\n",
       "      <td>0</td>\n",
       "      <td>0</td>\n",
       "      <td>0</td>\n",
       "      <td>0</td>\n",
       "    </tr>\n",
       "    <tr>\n",
       "      <th>2</th>\n",
       "      <td>1</td>\n",
       "      <td>0</td>\n",
       "      <td>0</td>\n",
       "      <td>0</td>\n",
       "      <td>0</td>\n",
       "      <td>0</td>\n",
       "      <td>0</td>\n",
       "      <td>0</td>\n",
       "      <td>0</td>\n",
       "      <td>0</td>\n",
       "      <td>...</td>\n",
       "      <td>0</td>\n",
       "      <td>0</td>\n",
       "      <td>0</td>\n",
       "      <td>0</td>\n",
       "      <td>0</td>\n",
       "      <td>0</td>\n",
       "      <td>0</td>\n",
       "      <td>0</td>\n",
       "      <td>0</td>\n",
       "      <td>0</td>\n",
       "    </tr>\n",
       "    <tr>\n",
       "      <th>3</th>\n",
       "      <td>4</td>\n",
       "      <td>0</td>\n",
       "      <td>0</td>\n",
       "      <td>0</td>\n",
       "      <td>0</td>\n",
       "      <td>0</td>\n",
       "      <td>0</td>\n",
       "      <td>0</td>\n",
       "      <td>0</td>\n",
       "      <td>0</td>\n",
       "      <td>...</td>\n",
       "      <td>0</td>\n",
       "      <td>0</td>\n",
       "      <td>0</td>\n",
       "      <td>0</td>\n",
       "      <td>0</td>\n",
       "      <td>0</td>\n",
       "      <td>0</td>\n",
       "      <td>0</td>\n",
       "      <td>0</td>\n",
       "      <td>0</td>\n",
       "    </tr>\n",
       "    <tr>\n",
       "      <th>4</th>\n",
       "      <td>0</td>\n",
       "      <td>0</td>\n",
       "      <td>0</td>\n",
       "      <td>0</td>\n",
       "      <td>0</td>\n",
       "      <td>0</td>\n",
       "      <td>0</td>\n",
       "      <td>0</td>\n",
       "      <td>0</td>\n",
       "      <td>0</td>\n",
       "      <td>...</td>\n",
       "      <td>0</td>\n",
       "      <td>0</td>\n",
       "      <td>0</td>\n",
       "      <td>0</td>\n",
       "      <td>0</td>\n",
       "      <td>0</td>\n",
       "      <td>0</td>\n",
       "      <td>0</td>\n",
       "      <td>0</td>\n",
       "      <td>0</td>\n",
       "    </tr>\n",
       "  </tbody>\n",
       "</table>\n",
       "<p>5 rows × 785 columns</p>\n",
       "</div>"
      ],
      "text/plain": [
       "   label  pixel0  pixel1  pixel2  pixel3  pixel4  pixel5  pixel6  pixel7  \\\n",
       "0      1       0       0       0       0       0       0       0       0   \n",
       "1      0       0       0       0       0       0       0       0       0   \n",
       "2      1       0       0       0       0       0       0       0       0   \n",
       "3      4       0       0       0       0       0       0       0       0   \n",
       "4      0       0       0       0       0       0       0       0       0   \n",
       "\n",
       "   pixel8    ...     pixel774  pixel775  pixel776  pixel777  pixel778  \\\n",
       "0       0    ...            0         0         0         0         0   \n",
       "1       0    ...            0         0         0         0         0   \n",
       "2       0    ...            0         0         0         0         0   \n",
       "3       0    ...            0         0         0         0         0   \n",
       "4       0    ...            0         0         0         0         0   \n",
       "\n",
       "   pixel779  pixel780  pixel781  pixel782  pixel783  \n",
       "0         0         0         0         0         0  \n",
       "1         0         0         0         0         0  \n",
       "2         0         0         0         0         0  \n",
       "3         0         0         0         0         0  \n",
       "4         0         0         0         0         0  \n",
       "\n",
       "[5 rows x 785 columns]"
      ]
     },
     "execution_count": 3,
     "metadata": {},
     "output_type": "execute_result"
    }
   ],
   "source": [
    "total_df = pd.read_csv(TRAIN_CSV)\n",
    "total_df.head()"
   ]
  },
  {
   "cell_type": "code",
   "execution_count": 4,
   "metadata": {},
   "outputs": [
    {
     "data": {
      "text/html": [
       "<div>\n",
       "<style>\n",
       "    .dataframe thead tr:only-child th {\n",
       "        text-align: right;\n",
       "    }\n",
       "\n",
       "    .dataframe thead th {\n",
       "        text-align: left;\n",
       "    }\n",
       "\n",
       "    .dataframe tbody tr th {\n",
       "        vertical-align: top;\n",
       "    }\n",
       "</style>\n",
       "<table border=\"1\" class=\"dataframe\">\n",
       "  <thead>\n",
       "    <tr style=\"text-align: right;\">\n",
       "      <th></th>\n",
       "      <th>pixel0</th>\n",
       "      <th>pixel1</th>\n",
       "      <th>pixel2</th>\n",
       "      <th>pixel3</th>\n",
       "      <th>pixel4</th>\n",
       "      <th>pixel5</th>\n",
       "      <th>pixel6</th>\n",
       "      <th>pixel7</th>\n",
       "      <th>pixel8</th>\n",
       "      <th>pixel9</th>\n",
       "      <th>...</th>\n",
       "      <th>pixel774</th>\n",
       "      <th>pixel775</th>\n",
       "      <th>pixel776</th>\n",
       "      <th>pixel777</th>\n",
       "      <th>pixel778</th>\n",
       "      <th>pixel779</th>\n",
       "      <th>pixel780</th>\n",
       "      <th>pixel781</th>\n",
       "      <th>pixel782</th>\n",
       "      <th>pixel783</th>\n",
       "    </tr>\n",
       "  </thead>\n",
       "  <tbody>\n",
       "    <tr>\n",
       "      <th>0</th>\n",
       "      <td>0</td>\n",
       "      <td>0</td>\n",
       "      <td>0</td>\n",
       "      <td>0</td>\n",
       "      <td>0</td>\n",
       "      <td>0</td>\n",
       "      <td>0</td>\n",
       "      <td>0</td>\n",
       "      <td>0</td>\n",
       "      <td>0</td>\n",
       "      <td>...</td>\n",
       "      <td>0</td>\n",
       "      <td>0</td>\n",
       "      <td>0</td>\n",
       "      <td>0</td>\n",
       "      <td>0</td>\n",
       "      <td>0</td>\n",
       "      <td>0</td>\n",
       "      <td>0</td>\n",
       "      <td>0</td>\n",
       "      <td>0</td>\n",
       "    </tr>\n",
       "    <tr>\n",
       "      <th>1</th>\n",
       "      <td>0</td>\n",
       "      <td>0</td>\n",
       "      <td>0</td>\n",
       "      <td>0</td>\n",
       "      <td>0</td>\n",
       "      <td>0</td>\n",
       "      <td>0</td>\n",
       "      <td>0</td>\n",
       "      <td>0</td>\n",
       "      <td>0</td>\n",
       "      <td>...</td>\n",
       "      <td>0</td>\n",
       "      <td>0</td>\n",
       "      <td>0</td>\n",
       "      <td>0</td>\n",
       "      <td>0</td>\n",
       "      <td>0</td>\n",
       "      <td>0</td>\n",
       "      <td>0</td>\n",
       "      <td>0</td>\n",
       "      <td>0</td>\n",
       "    </tr>\n",
       "    <tr>\n",
       "      <th>2</th>\n",
       "      <td>0</td>\n",
       "      <td>0</td>\n",
       "      <td>0</td>\n",
       "      <td>0</td>\n",
       "      <td>0</td>\n",
       "      <td>0</td>\n",
       "      <td>0</td>\n",
       "      <td>0</td>\n",
       "      <td>0</td>\n",
       "      <td>0</td>\n",
       "      <td>...</td>\n",
       "      <td>0</td>\n",
       "      <td>0</td>\n",
       "      <td>0</td>\n",
       "      <td>0</td>\n",
       "      <td>0</td>\n",
       "      <td>0</td>\n",
       "      <td>0</td>\n",
       "      <td>0</td>\n",
       "      <td>0</td>\n",
       "      <td>0</td>\n",
       "    </tr>\n",
       "    <tr>\n",
       "      <th>3</th>\n",
       "      <td>0</td>\n",
       "      <td>0</td>\n",
       "      <td>0</td>\n",
       "      <td>0</td>\n",
       "      <td>0</td>\n",
       "      <td>0</td>\n",
       "      <td>0</td>\n",
       "      <td>0</td>\n",
       "      <td>0</td>\n",
       "      <td>0</td>\n",
       "      <td>...</td>\n",
       "      <td>0</td>\n",
       "      <td>0</td>\n",
       "      <td>0</td>\n",
       "      <td>0</td>\n",
       "      <td>0</td>\n",
       "      <td>0</td>\n",
       "      <td>0</td>\n",
       "      <td>0</td>\n",
       "      <td>0</td>\n",
       "      <td>0</td>\n",
       "    </tr>\n",
       "    <tr>\n",
       "      <th>4</th>\n",
       "      <td>0</td>\n",
       "      <td>0</td>\n",
       "      <td>0</td>\n",
       "      <td>0</td>\n",
       "      <td>0</td>\n",
       "      <td>0</td>\n",
       "      <td>0</td>\n",
       "      <td>0</td>\n",
       "      <td>0</td>\n",
       "      <td>0</td>\n",
       "      <td>...</td>\n",
       "      <td>0</td>\n",
       "      <td>0</td>\n",
       "      <td>0</td>\n",
       "      <td>0</td>\n",
       "      <td>0</td>\n",
       "      <td>0</td>\n",
       "      <td>0</td>\n",
       "      <td>0</td>\n",
       "      <td>0</td>\n",
       "      <td>0</td>\n",
       "    </tr>\n",
       "  </tbody>\n",
       "</table>\n",
       "<p>5 rows × 784 columns</p>\n",
       "</div>"
      ],
      "text/plain": [
       "   pixel0  pixel1  pixel2  pixel3  pixel4  pixel5  pixel6  pixel7  pixel8  \\\n",
       "0       0       0       0       0       0       0       0       0       0   \n",
       "1       0       0       0       0       0       0       0       0       0   \n",
       "2       0       0       0       0       0       0       0       0       0   \n",
       "3       0       0       0       0       0       0       0       0       0   \n",
       "4       0       0       0       0       0       0       0       0       0   \n",
       "\n",
       "   pixel9    ...     pixel774  pixel775  pixel776  pixel777  pixel778  \\\n",
       "0       0    ...            0         0         0         0         0   \n",
       "1       0    ...            0         0         0         0         0   \n",
       "2       0    ...            0         0         0         0         0   \n",
       "3       0    ...            0         0         0         0         0   \n",
       "4       0    ...            0         0         0         0         0   \n",
       "\n",
       "   pixel779  pixel780  pixel781  pixel782  pixel783  \n",
       "0         0         0         0         0         0  \n",
       "1         0         0         0         0         0  \n",
       "2         0         0         0         0         0  \n",
       "3         0         0         0         0         0  \n",
       "4         0         0         0         0         0  \n",
       "\n",
       "[5 rows x 784 columns]"
      ]
     },
     "execution_count": 4,
     "metadata": {},
     "output_type": "execute_result"
    }
   ],
   "source": [
    "final_df = pd.read_csv(TEST_CSV)\n",
    "final_df.head()"
   ]
  },
  {
   "cell_type": "code",
   "execution_count": 5,
   "metadata": {},
   "outputs": [
    {
     "name": "stdout",
     "output_type": "stream",
     "text": [
      "total_X: (42000, 28, 28, 1)\n",
      "total_Y: (42000, 1)\n",
      "final_X: (28000, 28, 28, 1)\n"
     ]
    }
   ],
   "source": [
    "total_X = total_df.iloc[:, 1:].values.reshape(-1, 28, 28, 1)\n",
    "total_Y = total_df.iloc[:, 0].values.reshape(-1, 1)\n",
    "final_X = final_df.iloc[:, :].values.reshape(-1, 28, 28, 1)\n",
    "\n",
    "print('total_X:', total_X.shape)\n",
    "print('total_Y:', total_Y.shape)\n",
    "print('final_X:', final_X.shape)"
   ]
  },
  {
   "cell_type": "code",
   "execution_count": 6,
   "metadata": {},
   "outputs": [
    {
     "name": "stdout",
     "output_type": "stream",
     "text": [
      "需要预测的数字: {0, 1, 2, 3, 4, 5, 6, 7, 8, 9}\n"
     ]
    }
   ],
   "source": [
    "print('需要预测的数字:', set(np.squeeze(total_Y).tolist()))"
   ]
  },
  {
   "cell_type": "code",
   "execution_count": 7,
   "metadata": {},
   "outputs": [
    {
     "data": {
      "image/png": "[encoded data removed]",
      "text/plain": [
       "<matplotlib.figure.Figure at 0x1278cc470>"
      ]
     },
     "metadata": {},
     "output_type": "display_data"
    }
   ],
   "source": [
    "plt.figure(figsize=(16, 6))\n",
    "plt.rcParams['image.cmap'] = 'gray'\n",
    "for i in range(10):\n",
    "    plt.subplot(2, 5, i+1)\n",
    "    plt.imshow(total_X[i, :, :, 0])\n",
    "    plt.axis('off')"
   ]
  },
  {
   "cell_type": "markdown",
   "metadata": {},
   "source": [
    "### 随机化数据"
   ]
  },
  {
   "cell_type": "code",
   "execution_count": 8,
   "metadata": {
    "collapsed": true
   },
   "outputs": [],
   "source": [
    "random_indexes = np.random.permutation(total_X.shape[0])\n",
    "total_shuffle_X = total_X[random_indexes]\n",
    "total_shuffle_Y = total_Y[random_indexes]"
   ]
  },
  {
   "cell_type": "markdown",
   "metadata": {},
   "source": [
    "## 用imagenet预训练的resnet提取所有图片特征，保存到文件"
   ]
  },
  {
   "cell_type": "markdown",
   "metadata": {},
   "source": [
    "### 特征保存类"
   ]
  },
  {
   "cell_type": "code",
   "execution_count": 9,
   "metadata": {
    "collapsed": true
   },
   "outputs": [],
   "source": [
    "class Features_saver:\n",
    "    def __init__(self, file_path, total_size, feature_size):\n",
    "        if os.path.exists(file_path):\n",
    "            os.remove(file_path)\n",
    "        \n",
    "        self._h5f = h5py.File(file_path, mode='a')\n",
    "        self._dataset = self._h5f.create_dataset(\"features\", (total_size, feature_size),\n",
    "                                                 maxshape=(None, feature_size),\n",
    "                                                 dtype='float32')\n",
    "        self._last_point = 0\n",
    "        \n",
    "    def __del__(self):\n",
    "        if self._h5f != None:\n",
    "            self._h5f.close()\n",
    "            self._h5f = None\n",
    "            \n",
    "    def save_features(self, features):\n",
    "        self._dataset[self._last_point: self._last_point + features.shape[0]] = features\n",
    "        self._last_point += features.shape[0]\n",
    "        \n",
    "    def save_labels(self, labels):\n",
    "        self._h5f['labels'] = labels\n",
    "        \n",
    "    def close(self):\n",
    "        if self._h5f is not None:\n",
    "            self._h5f.close()\n",
    "            self._h5f = None"
   ]
  },
  {
   "cell_type": "markdown",
   "metadata": {},
   "source": [
    "### 图片输入管道"
   ]
  },
  {
   "cell_type": "code",
   "execution_count": 10,
   "metadata": {
    "collapsed": true
   },
   "outputs": [],
   "source": [
    "def image_process_map(image):\n",
    "    rgb_image = tf.concat([image, image, image], axis=-1)\n",
    "    resize_image = tf.image.resize_images(rgb_image, size=(224, 224))\n",
    "    pre_image = keras.applications.resnet50.preprocess_input(resize_image, mode='tf')\n",
    "    \n",
    "    return pre_image;"
   ]
  },
  {
   "cell_type": "code",
   "execution_count": 11,
   "metadata": {
    "collapsed": true
   },
   "outputs": [],
   "source": [
    "def gen_images(images, batch_size):\n",
    "    images_set = tf.data.Dataset.from_tensor_slices(images)\n",
    "    images_set = images_set.batch(batch_size)\n",
    "    images_set = images_set.repeat(1)\n",
    "    images_set = images_set.map(image_process_map, 8)\n",
    "    images_gen = images_set.make_one_shot_iterator()\n",
    "    next_images = images_gen.get_next()\n",
    "    \n",
    "    return next_images"
   ]
  },
  {
   "cell_type": "markdown",
   "metadata": {},
   "source": [
    "### 特征提取函数"
   ]
  },
  {
   "cell_type": "code",
   "execution_count": 12,
   "metadata": {
    "collapsed": true
   },
   "outputs": [],
   "source": [
    "def build_placeholder():\n",
    "    inputs = tf.placeholder(shape=(None, 224, 224, 3), dtype=tf.float32, name='inputs')\n",
    "    \n",
    "    return inputs"
   ]
  },
  {
   "cell_type": "code",
   "execution_count": 13,
   "metadata": {
    "collapsed": true
   },
   "outputs": [],
   "source": [
    "def build_pretrain_resnet(input):\n",
    "    resnet = keras.applications.resnet50.ResNet50(include_top=False, input_tensor=input, pooling='avg')\n",
    "    \n",
    "    return resnet.output"
   ]
  },
  {
   "cell_type": "code",
   "execution_count": 14,
   "metadata": {
    "collapsed": true
   },
   "outputs": [],
   "source": [
    "def features_extract(file_path, images, labels=None, batch_size=8):  \n",
    "    tf.reset_default_graph()\n",
    "    \n",
    "    inputs_pl = build_placeholder()\n",
    "    pretrain_output_op = build_pretrain_resnet(inputs_pl)\n",
    "    \n",
    "    with tf.device('/cpu:0'):\n",
    "        images_gen = gen_images(images, batch_size)\n",
    "        \n",
    "    feature_saver = Features_saver(file_path, images.shape[0], 2048)\n",
    "    \n",
    "    sess = tf.Session()\n",
    "    sess.run(tf.global_variables_initializer())\n",
    "    \n",
    "    step = 0\n",
    "    while True:\n",
    "        try:\n",
    "            input_images = sess.run(images_gen)\n",
    "            batch_features = sess.run(pretrain_output_op, feed_dict={inputs_pl: input_images})\n",
    "            \n",
    "            feature_saver.save_features(batch_features)\n",
    "            \n",
    "            sys.stdout.write('\\r%{:.2f}    '.format(100 * step * batch_size / images.shape[0]))\n",
    "            sys.stdout.flush()\n",
    "            step += 1\n",
    "        except tf.errors.OutOfRangeError:\n",
    "            sys.stdout.write('\\r%100    ')\n",
    "            sys.stdout.flush()\n",
    "            print('')\n",
    "            print('Feature extraction complete')\n",
    "            break\n",
    "    \n",
    "    if isinstance(labels, np.ndarray):\n",
    "        feature_saver.save_labels(labels)\n",
    "        \n",
    "    feature_saver.close()\n",
    "    sess.close()"
   ]
  },
  {
   "cell_type": "code",
   "execution_count": 15,
   "metadata": {},
   "outputs": [
    {
     "name": "stdout",
     "output_type": "stream",
     "text": [
      "%100      \n",
      "Feature extraction complete\n"
     ]
    }
   ],
   "source": [
    "features_extract(TRAIN_FEATURE_SAVE, total_shuffle_X[:20], total_shuffle_Y[:20])"
   ]
  },
  {
   "cell_type": "code",
   "execution_count": 16,
   "metadata": {
    "collapsed": true
   },
   "outputs": [],
   "source": [
    "# features_extract(TEST_FEATURE_SAVE, final_X[:10])"
   ]
  },
  {
   "cell_type": "markdown",
   "metadata": {},
   "source": [
    "## 直接用保存的特性训练一个很小的网络"
   ]
  },
  {
   "cell_type": "markdown",
   "metadata": {},
   "source": [
    "### 划分数据集"
   ]
  },
  {
   "cell_type": "code",
   "execution_count": 17,
   "metadata": {},
   "outputs": [
    {
     "data": {
      "text/plain": [
       "(20, 1)"
      ]
     },
     "execution_count": 17,
     "metadata": {},
     "output_type": "execute_result"
    }
   ],
   "source": [
    "h5f = h5py.File(TRAIN_FEATURE_SAVE, mode='r')\n",
    "total_X_dataset = h5f['features']\n",
    "total_Y_dataset = h5f['labels']\n",
    "\n",
    "total_X_dataset.shape\n",
    "total_Y_dataset.shape"
   ]
  },
  {
   "cell_type": "markdown",
   "metadata": {},
   "source": [
    "### 特征、标签生成器"
   ]
  },
  {
   "cell_type": "code",
   "execution_count": 18,
   "metadata": {
    "collapsed": true
   },
   "outputs": [],
   "source": [
    "class Features_labels_gen:\n",
    "    def __init__(self, X_dataset, Y_dataset=None, epochs=1, batch_size=2, shuffle=True):\n",
    "        self._X_dataset = X_dataset\n",
    "        self._Y_dataset = Y_dataset\n",
    "        \n",
    "        self.total_size = X_dataset.shape[0]\n",
    "        self.total_steps = self.total_size // batch_size\n",
    "        if self.total_size % batch_size != 0:\n",
    "            self.total_steps += 1\n",
    "\n",
    "        dataset = tf.data.Dataset.from_tensor_slices(np.arange(self.total_size))\n",
    "        dataset = dataset.repeat(epochs).batch(batch_size)\n",
    "        if shuffle:\n",
    "            dataset = dataset.shuffle(buffer_size=self.total_size // batch_size + 10)\n",
    "        \n",
    "        self._next_indexes = dataset.make_one_shot_iterator().get_next()\n",
    "        \n",
    "    def get_featres_labels(self, sess):\n",
    "        indexes = list(sess.run(self._next_indexes))\n",
    "\n",
    "        if self._Y_dataset is None:\n",
    "            return self._X_dataset[indexes]\n",
    "        else:\n",
    "            return self._X_dataset[indexes], self._Y_dataset[indexes]       "
   ]
  },
  {
   "cell_type": "code",
   "execution_count": 19,
   "metadata": {
    "collapsed": true
   },
   "outputs": [],
   "source": [
    "gen = Features_labels_gen(total_X_dataset, total_Y_dataset, epochs=2)\n",
    "with tf.Session() as sess:\n",
    "    try:\n",
    "        while True:\n",
    "            X, Y = gen.get_featres_labels(sess)\n",
    "    except:\n",
    "        pass\n",
    "    "
   ]
  },
  {
   "cell_type": "markdown",
   "metadata": {},
   "source": [
    "### 微调的小网络"
   ]
  },
  {
   "cell_type": "code",
   "execution_count": 20,
   "metadata": {
    "collapsed": true
   },
   "outputs": [],
   "source": [
    "def build_small_net(input, keep_prob=1, shapes=(10,)):\n",
    "    with tf.name_scope('small_net'):\n",
    "        layer_output = input\n",
    "        for index, shape in enumerate(shapes):\n",
    "            liner_output = tf.layers.dense(layer_output,\n",
    "                                           shape, \n",
    "                                           activation=None,\n",
    "                                           kernel_initializer=tf.contrib.layers.xavier_initializer())\n",
    "            \n",
    "            if index == len(shapes) - 1:\n",
    "                layer_output = tf.nn.softmax(liner_output)\n",
    "            else:\n",
    "                layer_output = tf.nn.relu(liner_output)\n",
    "                if keep_prob != 1:\n",
    "                    layer_output = tf.nn.dropout(layer_output, keep_prob)\n",
    "                \n",
    "    logits = liner_output\n",
    "    output = layer_output\n",
    "    \n",
    "    return logits, output"
   ]
  },
  {
   "cell_type": "code",
   "execution_count": 21,
   "metadata": {
    "collapsed": true
   },
   "outputs": [],
   "source": [
    "def build_fineture_input():\n",
    "    inputs = tf.placeholder(shape=(None, 2048), dtype=tf.float32, name='inputs')\n",
    "    labels = tf.placeholder(shape=(None, 1), dtype=tf.int32, name='labels') \n",
    "    \n",
    "    return inputs, labels"
   ]
  },
  {
   "cell_type": "code",
   "execution_count": 22,
   "metadata": {
    "collapsed": true
   },
   "outputs": [],
   "source": [
    "def build_cost(logits, labels):\n",
    "    onehot_labels = tf.one_hot(labels, depth=10, axis=-1)\n",
    "    \n",
    "    return tf.reduce_mean(tf.nn.softmax_cross_entropy_with_logits_v2(labels=onehot_labels, logits=logits))"
   ]
  },
  {
   "cell_type": "code",
   "execution_count": 23,
   "metadata": {
    "collapsed": true
   },
   "outputs": [],
   "source": [
    "def build_accuracy(outputs, labels):\n",
    "    predicts = tf.argmax(outputs, axis=-1, output_type=tf.int32)\n",
    "    is_rights = tf.equal(predicts, tf.reshape(labels, (-1,)))\n",
    "    accuracy = tf.reduce_mean(tf.cast(is_rights, tf.float32))\n",
    "    \n",
    "    return accuracy"
   ]
  },
  {
   "cell_type": "code",
   "execution_count": 24,
   "metadata": {
    "collapsed": true
   },
   "outputs": [],
   "source": [
    "def plot(steps, costs, accuracies):\n",
    "    plt.figure(figsize=(18, 6))\n",
    "    \n",
    "    plt.subplot(1, 2, 1)\n",
    "    plt.plot(list(range(steps)), costs)\n",
    "    plt.xlabel('step')\n",
    "    plt.ylabel('cost')\n",
    "    \n",
    "    plt.subplot(1, 2, 2)\n",
    "    plt.plot(list(range(steps)), accuracies)\n",
    "    plt.xlabel('step')\n",
    "    plt.ylabel('accuracy')"
   ]
  },
  {
   "cell_type": "markdown",
   "metadata": {},
   "source": [
    "### 微调"
   ]
  },
  {
   "cell_type": "code",
   "execution_count": 44,
   "metadata": {
    "collapsed": true
   },
   "outputs": [],
   "source": [
    "def fineturn(X_train, Y_train, X_dev, Y_dev, lr=0.01, batch_size=2, keep_prob=1, epochs=1, \n",
    "             fineture_net_shape=(10,), print_steps=10, plot_steps=5, resume=True):\n",
    "    tf.reset_default_graph()\n",
    "    \n",
    "    inputs_pl, labels_pl = build_fineture_input()\n",
    "    logits_op, output_op = build_small_net(inputs_pl, keep_prob, fineture_net_shape)\n",
    "    \n",
    "    cost_op = build_cost(logits_op, labels_pl)\n",
    "    accuracy_op = build_accuracy(output_op, labels_pl)\n",
    "    optimizer_op = tf.train.AdamOptimizer(lr).minimize(cost_op)\n",
    "    \n",
    "    train_gen = Features_labels_gen(X_train, Y_train, epochs, batch_size)\n",
    "    evaluate_train_gen = Features_labels_gen(X_train, Y_train, epochs, batch_size)\n",
    "    evaluate_dev_gen = Features_labels_gen(X_dev, Y_dev, 1, batch_size)\n",
    "    \n",
    "    sess = tf.Session()\n",
    "    sess.run(tf.global_variables_initializer())\n",
    "    \n",
    "    saver = tf.train.Saver()\n",
    "    if resume:\n",
    "        saver.restore(sess, MODEL_SAVE)\n",
    "    \n",
    "    costs = []\n",
    "    step_accuracies = []\n",
    "    \n",
    "    try:\n",
    "        step = 0\n",
    "        while True:\n",
    "            train_X, train_Y = train_gen.get_featres_labels(sess)\n",
    "        \n",
    "            _, cost, step_accuracy = sess.run((optimizer_op, cost_op, accuracy_op),\n",
    "                                         feed_dict={inputs_pl: train_X, labels_pl: train_Y})\n",
    "            \n",
    "            if step % print_steps == 0:\n",
    "                print('step:{0}--cost:{1:.4f}--step_accuracy:{2:.4f}'.format(step, cost, step_accuracy))\n",
    "                \n",
    "            if step % plot_steps == 0:\n",
    "                costs.append(cost)\n",
    "                step_accuracies.append(step_accuracy)\n",
    "            \n",
    "            step += 1\n",
    "    except tf.errors.OutOfRangeError:\n",
    "        pass\n",
    "    \n",
    "    train_accuracies = []\n",
    "    try:\n",
    "        while True:\n",
    "            train_X, train_Y = evaluate_train_gen.get_featres_labels(sess)\n",
    "            accuracy = sess.run(accuracy_op, feed_dict={inputs_pl: train_X, labels_pl: train_Y})\n",
    "            train_accuracies.append(accuracy)\n",
    "    except tf.errors.OutOfRangeError:\n",
    "        pass\n",
    "    \n",
    "    evaluate_train_accuracy = np.mean(train_accuracies)\n",
    "            \n",
    "    \n",
    "    dev_accuracies = []\n",
    "    try:\n",
    "        while True:\n",
    "            dev_X, dev_Y = evaluate_dev_gen.get_featres_labels(sess)\n",
    "            accuracy = sess.run(accuracy_op, feed_dict={inputs_pl: dev_X, labels_pl: dev_Y})\n",
    "            dev_accuracies.append(accuracy)\n",
    "    except tf.errors.OutOfRangeError:\n",
    "        pass\n",
    "    \n",
    "    evaluate_dev_accuracy = np.mean(dev_accuracies)\n",
    "    \n",
    "    plot(step, costs, train_accuracies)\n",
    "    \n",
    "    print('train set accuracy:{0:.4f} \\ndev set accuracy:{1:.4f}'.format(evaluate_train_accuracy, evaluate_dev_accuracy))\n",
    "    \n",
    "    saver.save(sess, MODEL_SAVE)\n",
    "    \n",
    "    sess.close()"
   ]
  },
  {
   "cell_type": "code",
   "execution_count": 45,
   "metadata": {},
   "outputs": [
    {
     "name": "stdout",
     "output_type": "stream",
     "text": [
      "step:0--cost:2.3133--step_accuracy:0.0000\n",
      "step:5--cost:2.2300--step_accuracy:0.0000\n",
      "step:10--cost:1.8332--step_accuracy:0.5000\n",
      "step:15--cost:2.2807--step_accuracy:0.5000\n",
      "train set accuracy:0.3500 \n",
      "dev set accuracy:0.3500\n"
     ]
    },
    {
     "data": {
      "image/png": "[encoded data removed]",
      "text/plain": [
       "<matplotlib.figure.Figure at 0x132edc128>"
      ]
     },
     "metadata": {},
     "output_type": "display_data"
    }
   ],
   "source": [
    "fineturn(total_X_dataset, total_Y_dataset, total_X_dataset, total_Y_dataset,\n",
    "         lr=0.001, epochs=2, print_steps=5, plot_steps=1, resume=False)"
   ]
  },
  {
   "cell_type": "markdown",
   "metadata": {},
   "source": [
    "## 预测"
   ]
  },
  {
   "cell_type": "code",
   "execution_count": 29,
   "metadata": {
    "collapsed": true
   },
   "outputs": [],
   "source": [
    "def predict(X_dataset, batch_size=64, fineture_net_shape=(10,)):\n",
    "    tf.reset_default_graph()\n",
    "    \n",
    "    inputs_pl, _ = build_fineture_input()\n",
    "    _, output_op = build_small_net(inputs_pl, 1, fineture_net_shape)\n",
    "    \n",
    "    sess = tf.Session()\n",
    "    sess.run(tf.global_variables_initializer())\n",
    "    \n",
    "    saver = tf.train.Saver()\n",
    "    saver.restore(sess, MODEL_SAVE)\n",
    "\n",
    "    data_gen = Features_labels_gen(X_dataset, batch_size=batch_size, epochs=1, shuffle=False)\n",
    "    \n",
    "    outputs = []\n",
    "    try:\n",
    "        while True:\n",
    "            X = data_gen.get_featres_labels(sess)\n",
    "            output = sess.run(output_op, feed_dict={inputs_pl: X})\n",
    "            outputs.append(output)\n",
    "    except tf.errors.OutOfRangeError:\n",
    "        pass\n",
    "    \n",
    "    predicts = np.concatenate(outputs, axis=0)\n",
    "    \n",
    "    return predicts"
   ]
  },
  {
   "cell_type": "code",
   "execution_count": 31,
   "metadata": {},
   "outputs": [
    {
     "name": "stdout",
     "output_type": "stream",
     "text": [
      "INFO:tensorflow:Restoring parameters from ./model_save/model.ckpt\n"
     ]
    },
    {
     "data": {
      "text/plain": [
       "(5, 10)"
      ]
     },
     "execution_count": 31,
     "metadata": {},
     "output_type": "execute_result"
    }
   ],
   "source": [
    "result = predict(total_X_dataset[:5])\n",
    "result.shape"
   ]
  },
  {
   "cell_type": "markdown",
   "metadata": {},
   "source": [
    "### 预测结果保存的csv文件"
   ]
  },
  {
   "cell_type": "code",
   "execution_count": 32,
   "metadata": {
    "collapsed": true
   },
   "outputs": [],
   "source": [
    "def save_predicts_to_csv(predicts, save_path):\n",
    "    predicts_arr = np.argmax(predicts, axis=-1)\n",
    "\n",
    "    df = pd.DataFrame({\n",
    "        'ImageId': np.arange(1, predicts.shape[0] + 1),\n",
    "        'Label': predicts_arr,\n",
    "    })\n",
    "    \n",
    "    df.to_csv(save_path, index=False)\n",
    "    \n",
    "    return df"
   ]
  },
  {
   "cell_type": "code",
   "execution_count": 33,
   "metadata": {},
   "outputs": [
    {
     "data": {
      "text/html": [
       "<div>\n",
       "<style>\n",
       "    .dataframe thead tr:only-child th {\n",
       "        text-align: right;\n",
       "    }\n",
       "\n",
       "    .dataframe thead th {\n",
       "        text-align: left;\n",
       "    }\n",
       "\n",
       "    .dataframe tbody tr th {\n",
       "        vertical-align: top;\n",
       "    }\n",
       "</style>\n",
       "<table border=\"1\" class=\"dataframe\">\n",
       "  <thead>\n",
       "    <tr style=\"text-align: right;\">\n",
       "      <th></th>\n",
       "      <th>ImageId</th>\n",
       "      <th>Label</th>\n",
       "    </tr>\n",
       "  </thead>\n",
       "  <tbody>\n",
       "    <tr>\n",
       "      <th>0</th>\n",
       "      <td>1</td>\n",
       "      <td>8</td>\n",
       "    </tr>\n",
       "    <tr>\n",
       "      <th>1</th>\n",
       "      <td>2</td>\n",
       "      <td>8</td>\n",
       "    </tr>\n",
       "    <tr>\n",
       "      <th>2</th>\n",
       "      <td>3</td>\n",
       "      <td>8</td>\n",
       "    </tr>\n",
       "    <tr>\n",
       "      <th>3</th>\n",
       "      <td>4</td>\n",
       "      <td>8</td>\n",
       "    </tr>\n",
       "    <tr>\n",
       "      <th>4</th>\n",
       "      <td>5</td>\n",
       "      <td>8</td>\n",
       "    </tr>\n",
       "  </tbody>\n",
       "</table>\n",
       "</div>"
      ],
      "text/plain": [
       "   ImageId  Label\n",
       "0        1      8\n",
       "1        2      8\n",
       "2        3      8\n",
       "3        4      8\n",
       "4        5      8"
      ]
     },
     "execution_count": 33,
     "metadata": {},
     "output_type": "execute_result"
    }
   ],
   "source": [
    "df = save_predicts_to_csv(result, PREDICT_CSV_DIR + 'test.csv')\n",
    "df.head()"
   ]
  },
  {
   "cell_type": "code",
   "execution_count": null,
   "metadata": {
    "collapsed": true
   },
   "outputs": [],
   "source": []
  }
 ],
 "metadata": {
  "kernelspec": {
   "display_name": "Python 3",
   "language": "python",
   "name": "python3"
  },
  "language_info": {
   "codemirror_mode": {
    "name": "ipython",
    "version": 3
   },
   "file_extension": ".py",
   "mimetype": "text/x-python",
   "name": "python",
   "nbconvert_exporter": "python",
   "pygments_lexer": "ipython3",
   "version": "3.6.4"
  }
 },
 "nbformat": 4,
 "nbformat_minor": 2
}
