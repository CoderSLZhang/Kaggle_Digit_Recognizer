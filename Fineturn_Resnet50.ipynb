{
 "cells": [
  {
   "cell_type": "code",
   "execution_count": 1,
   "metadata": {},
   "outputs": [
    {
     "name": "stderr",
     "output_type": "stream",
     "text": [
      "/Users/zytec/anaconda3/lib/python3.6/site-packages/h5py/__init__.py:36: FutureWarning: Conversion of the second argument of issubdtype from `float` to `np.floating` is deprecated. In future, it will be treated as `np.float64 == np.dtype(float).type`.\n",
      "  from ._conv import register_converters as _register_converters\n"
     ]
    }
   ],
   "source": [
    "import tensorflow as tf\n",
    "from tensorflow import keras\n",
    "import numpy as np\n",
    "import pandas as pd\n",
    "from matplotlib import pylab as plt\n",
    "import h5py\n",
    "import os\n",
    "import sys\n",
    "\n",
    "%matplotlib inline"
   ]
  },
  {
   "cell_type": "markdown",
   "metadata": {},
   "source": [
    "## 数据准备"
   ]
  },
  {
   "cell_type": "markdown",
   "metadata": {},
   "source": [
    "### 读取数据"
   ]
  },
  {
   "cell_type": "code",
   "execution_count": 2,
   "metadata": {},
   "outputs": [
    {
     "data": {
      "text/html": [
       "<div>\n",
       "<style scoped>\n",
       "    .dataframe tbody tr th:only-of-type {\n",
       "        vertical-align: middle;\n",
       "    }\n",
       "\n",
       "    .dataframe tbody tr th {\n",
       "        vertical-align: top;\n",
       "    }\n",
       "\n",
       "    .dataframe thead th {\n",
       "        text-align: right;\n",
       "    }\n",
       "</style>\n",
       "<table border=\"1\" class=\"dataframe\">\n",
       "  <thead>\n",
       "    <tr style=\"text-align: right;\">\n",
       "      <th></th>\n",
       "      <th>label</th>\n",
       "      <th>pixel0</th>\n",
       "      <th>pixel1</th>\n",
       "      <th>pixel2</th>\n",
       "      <th>pixel3</th>\n",
       "      <th>pixel4</th>\n",
       "      <th>pixel5</th>\n",
       "      <th>pixel6</th>\n",
       "      <th>pixel7</th>\n",
       "      <th>pixel8</th>\n",
       "      <th>...</th>\n",
       "      <th>pixel774</th>\n",
       "      <th>pixel775</th>\n",
       "      <th>pixel776</th>\n",
       "      <th>pixel777</th>\n",
       "      <th>pixel778</th>\n",
       "      <th>pixel779</th>\n",
       "      <th>pixel780</th>\n",
       "      <th>pixel781</th>\n",
       "      <th>pixel782</th>\n",
       "      <th>pixel783</th>\n",
       "    </tr>\n",
       "  </thead>\n",
       "  <tbody>\n",
       "    <tr>\n",
       "      <th>0</th>\n",
       "      <td>1</td>\n",
       "      <td>0</td>\n",
       "      <td>0</td>\n",
       "      <td>0</td>\n",
       "      <td>0</td>\n",
       "      <td>0</td>\n",
       "      <td>0</td>\n",
       "      <td>0</td>\n",
       "      <td>0</td>\n",
       "      <td>0</td>\n",
       "      <td>...</td>\n",
       "      <td>0</td>\n",
       "      <td>0</td>\n",
       "      <td>0</td>\n",
       "      <td>0</td>\n",
       "      <td>0</td>\n",
       "      <td>0</td>\n",
       "      <td>0</td>\n",
       "      <td>0</td>\n",
       "      <td>0</td>\n",
       "      <td>0</td>\n",
       "    </tr>\n",
       "    <tr>\n",
       "      <th>1</th>\n",
       "      <td>0</td>\n",
       "      <td>0</td>\n",
       "      <td>0</td>\n",
       "      <td>0</td>\n",
       "      <td>0</td>\n",
       "      <td>0</td>\n",
       "      <td>0</td>\n",
       "      <td>0</td>\n",
       "      <td>0</td>\n",
       "      <td>0</td>\n",
       "      <td>...</td>\n",
       "      <td>0</td>\n",
       "      <td>0</td>\n",
       "      <td>0</td>\n",
       "      <td>0</td>\n",
       "      <td>0</td>\n",
       "      <td>0</td>\n",
       "      <td>0</td>\n",
       "      <td>0</td>\n",
       "      <td>0</td>\n",
       "      <td>0</td>\n",
       "    </tr>\n",
       "    <tr>\n",
       "      <th>2</th>\n",
       "      <td>1</td>\n",
       "      <td>0</td>\n",
       "      <td>0</td>\n",
       "      <td>0</td>\n",
       "      <td>0</td>\n",
       "      <td>0</td>\n",
       "      <td>0</td>\n",
       "      <td>0</td>\n",
       "      <td>0</td>\n",
       "      <td>0</td>\n",
       "      <td>...</td>\n",
       "      <td>0</td>\n",
       "      <td>0</td>\n",
       "      <td>0</td>\n",
       "      <td>0</td>\n",
       "      <td>0</td>\n",
       "      <td>0</td>\n",
       "      <td>0</td>\n",
       "      <td>0</td>\n",
       "      <td>0</td>\n",
       "      <td>0</td>\n",
       "    </tr>\n",
       "    <tr>\n",
       "      <th>3</th>\n",
       "      <td>4</td>\n",
       "      <td>0</td>\n",
       "      <td>0</td>\n",
       "      <td>0</td>\n",
       "      <td>0</td>\n",
       "      <td>0</td>\n",
       "      <td>0</td>\n",
       "      <td>0</td>\n",
       "      <td>0</td>\n",
       "      <td>0</td>\n",
       "      <td>...</td>\n",
       "      <td>0</td>\n",
       "      <td>0</td>\n",
       "      <td>0</td>\n",
       "      <td>0</td>\n",
       "      <td>0</td>\n",
       "      <td>0</td>\n",
       "      <td>0</td>\n",
       "      <td>0</td>\n",
       "      <td>0</td>\n",
       "      <td>0</td>\n",
       "    </tr>\n",
       "    <tr>\n",
       "      <th>4</th>\n",
       "      <td>0</td>\n",
       "      <td>0</td>\n",
       "      <td>0</td>\n",
       "      <td>0</td>\n",
       "      <td>0</td>\n",
       "      <td>0</td>\n",
       "      <td>0</td>\n",
       "      <td>0</td>\n",
       "      <td>0</td>\n",
       "      <td>0</td>\n",
       "      <td>...</td>\n",
       "      <td>0</td>\n",
       "      <td>0</td>\n",
       "      <td>0</td>\n",
       "      <td>0</td>\n",
       "      <td>0</td>\n",
       "      <td>0</td>\n",
       "      <td>0</td>\n",
       "      <td>0</td>\n",
       "      <td>0</td>\n",
       "      <td>0</td>\n",
       "    </tr>\n",
       "  </tbody>\n",
       "</table>\n",
       "<p>5 rows × 785 columns</p>\n",
       "</div>"
      ],
      "text/plain": [
       "   label  pixel0  pixel1  pixel2  pixel3  pixel4  pixel5  pixel6  pixel7  \\\n",
       "0      1       0       0       0       0       0       0       0       0   \n",
       "1      0       0       0       0       0       0       0       0       0   \n",
       "2      1       0       0       0       0       0       0       0       0   \n",
       "3      4       0       0       0       0       0       0       0       0   \n",
       "4      0       0       0       0       0       0       0       0       0   \n",
       "\n",
       "   pixel8    ...     pixel774  pixel775  pixel776  pixel777  pixel778  \\\n",
       "0       0    ...            0         0         0         0         0   \n",
       "1       0    ...            0         0         0         0         0   \n",
       "2       0    ...            0         0         0         0         0   \n",
       "3       0    ...            0         0         0         0         0   \n",
       "4       0    ...            0         0         0         0         0   \n",
       "\n",
       "   pixel779  pixel780  pixel781  pixel782  pixel783  \n",
       "0         0         0         0         0         0  \n",
       "1         0         0         0         0         0  \n",
       "2         0         0         0         0         0  \n",
       "3         0         0         0         0         0  \n",
       "4         0         0         0         0         0  \n",
       "\n",
       "[5 rows x 785 columns]"
      ]
     },
     "execution_count": 2,
     "metadata": {},
     "output_type": "execute_result"
    }
   ],
   "source": [
    "total_df = pd.read_csv('./data/train.csv')\n",
    "total_df.head()"
   ]
  },
  {
   "cell_type": "code",
   "execution_count": 3,
   "metadata": {},
   "outputs": [
    {
     "data": {
      "text/html": [
       "<div>\n",
       "<style scoped>\n",
       "    .dataframe tbody tr th:only-of-type {\n",
       "        vertical-align: middle;\n",
       "    }\n",
       "\n",
       "    .dataframe tbody tr th {\n",
       "        vertical-align: top;\n",
       "    }\n",
       "\n",
       "    .dataframe thead th {\n",
       "        text-align: right;\n",
       "    }\n",
       "</style>\n",
       "<table border=\"1\" class=\"dataframe\">\n",
       "  <thead>\n",
       "    <tr style=\"text-align: right;\">\n",
       "      <th></th>\n",
       "      <th>pixel0</th>\n",
       "      <th>pixel1</th>\n",
       "      <th>pixel2</th>\n",
       "      <th>pixel3</th>\n",
       "      <th>pixel4</th>\n",
       "      <th>pixel5</th>\n",
       "      <th>pixel6</th>\n",
       "      <th>pixel7</th>\n",
       "      <th>pixel8</th>\n",
       "      <th>pixel9</th>\n",
       "      <th>...</th>\n",
       "      <th>pixel774</th>\n",
       "      <th>pixel775</th>\n",
       "      <th>pixel776</th>\n",
       "      <th>pixel777</th>\n",
       "      <th>pixel778</th>\n",
       "      <th>pixel779</th>\n",
       "      <th>pixel780</th>\n",
       "      <th>pixel781</th>\n",
       "      <th>pixel782</th>\n",
       "      <th>pixel783</th>\n",
       "    </tr>\n",
       "  </thead>\n",
       "  <tbody>\n",
       "    <tr>\n",
       "      <th>0</th>\n",
       "      <td>0</td>\n",
       "      <td>0</td>\n",
       "      <td>0</td>\n",
       "      <td>0</td>\n",
       "      <td>0</td>\n",
       "      <td>0</td>\n",
       "      <td>0</td>\n",
       "      <td>0</td>\n",
       "      <td>0</td>\n",
       "      <td>0</td>\n",
       "      <td>...</td>\n",
       "      <td>0</td>\n",
       "      <td>0</td>\n",
       "      <td>0</td>\n",
       "      <td>0</td>\n",
       "      <td>0</td>\n",
       "      <td>0</td>\n",
       "      <td>0</td>\n",
       "      <td>0</td>\n",
       "      <td>0</td>\n",
       "      <td>0</td>\n",
       "    </tr>\n",
       "    <tr>\n",
       "      <th>1</th>\n",
       "      <td>0</td>\n",
       "      <td>0</td>\n",
       "      <td>0</td>\n",
       "      <td>0</td>\n",
       "      <td>0</td>\n",
       "      <td>0</td>\n",
       "      <td>0</td>\n",
       "      <td>0</td>\n",
       "      <td>0</td>\n",
       "      <td>0</td>\n",
       "      <td>...</td>\n",
       "      <td>0</td>\n",
       "      <td>0</td>\n",
       "      <td>0</td>\n",
       "      <td>0</td>\n",
       "      <td>0</td>\n",
       "      <td>0</td>\n",
       "      <td>0</td>\n",
       "      <td>0</td>\n",
       "      <td>0</td>\n",
       "      <td>0</td>\n",
       "    </tr>\n",
       "    <tr>\n",
       "      <th>2</th>\n",
       "      <td>0</td>\n",
       "      <td>0</td>\n",
       "      <td>0</td>\n",
       "      <td>0</td>\n",
       "      <td>0</td>\n",
       "      <td>0</td>\n",
       "      <td>0</td>\n",
       "      <td>0</td>\n",
       "      <td>0</td>\n",
       "      <td>0</td>\n",
       "      <td>...</td>\n",
       "      <td>0</td>\n",
       "      <td>0</td>\n",
       "      <td>0</td>\n",
       "      <td>0</td>\n",
       "      <td>0</td>\n",
       "      <td>0</td>\n",
       "      <td>0</td>\n",
       "      <td>0</td>\n",
       "      <td>0</td>\n",
       "      <td>0</td>\n",
       "    </tr>\n",
       "    <tr>\n",
       "      <th>3</th>\n",
       "      <td>0</td>\n",
       "      <td>0</td>\n",
       "      <td>0</td>\n",
       "      <td>0</td>\n",
       "      <td>0</td>\n",
       "      <td>0</td>\n",
       "      <td>0</td>\n",
       "      <td>0</td>\n",
       "      <td>0</td>\n",
       "      <td>0</td>\n",
       "      <td>...</td>\n",
       "      <td>0</td>\n",
       "      <td>0</td>\n",
       "      <td>0</td>\n",
       "      <td>0</td>\n",
       "      <td>0</td>\n",
       "      <td>0</td>\n",
       "      <td>0</td>\n",
       "      <td>0</td>\n",
       "      <td>0</td>\n",
       "      <td>0</td>\n",
       "    </tr>\n",
       "    <tr>\n",
       "      <th>4</th>\n",
       "      <td>0</td>\n",
       "      <td>0</td>\n",
       "      <td>0</td>\n",
       "      <td>0</td>\n",
       "      <td>0</td>\n",
       "      <td>0</td>\n",
       "      <td>0</td>\n",
       "      <td>0</td>\n",
       "      <td>0</td>\n",
       "      <td>0</td>\n",
       "      <td>...</td>\n",
       "      <td>0</td>\n",
       "      <td>0</td>\n",
       "      <td>0</td>\n",
       "      <td>0</td>\n",
       "      <td>0</td>\n",
       "      <td>0</td>\n",
       "      <td>0</td>\n",
       "      <td>0</td>\n",
       "      <td>0</td>\n",
       "      <td>0</td>\n",
       "    </tr>\n",
       "  </tbody>\n",
       "</table>\n",
       "<p>5 rows × 784 columns</p>\n",
       "</div>"
      ],
      "text/plain": [
       "   pixel0  pixel1  pixel2  pixel3  pixel4  pixel5  pixel6  pixel7  pixel8  \\\n",
       "0       0       0       0       0       0       0       0       0       0   \n",
       "1       0       0       0       0       0       0       0       0       0   \n",
       "2       0       0       0       0       0       0       0       0       0   \n",
       "3       0       0       0       0       0       0       0       0       0   \n",
       "4       0       0       0       0       0       0       0       0       0   \n",
       "\n",
       "   pixel9    ...     pixel774  pixel775  pixel776  pixel777  pixel778  \\\n",
       "0       0    ...            0         0         0         0         0   \n",
       "1       0    ...            0         0         0         0         0   \n",
       "2       0    ...            0         0         0         0         0   \n",
       "3       0    ...            0         0         0         0         0   \n",
       "4       0    ...            0         0         0         0         0   \n",
       "\n",
       "   pixel779  pixel780  pixel781  pixel782  pixel783  \n",
       "0         0         0         0         0         0  \n",
       "1         0         0         0         0         0  \n",
       "2         0         0         0         0         0  \n",
       "3         0         0         0         0         0  \n",
       "4         0         0         0         0         0  \n",
       "\n",
       "[5 rows x 784 columns]"
      ]
     },
     "execution_count": 3,
     "metadata": {},
     "output_type": "execute_result"
    }
   ],
   "source": [
    "final_df = pd.read_csv('./data/test.csv')\n",
    "final_df.head()"
   ]
  },
  {
   "cell_type": "code",
   "execution_count": 4,
   "metadata": {},
   "outputs": [
    {
     "name": "stdout",
     "output_type": "stream",
     "text": [
      "total_X: (42000, 28, 28, 1)\n",
      "total_Y: (42000, 1)\n",
      "final_X: (28000, 28, 28, 1)\n"
     ]
    }
   ],
   "source": [
    "total_X = total_df.iloc[:, 1:].values.reshape(-1, 28, 28, 1)\n",
    "total_Y = total_df.iloc[:, 0].values.reshape(-1, 1)\n",
    "final_X = final_df.iloc[:, :].values.reshape(-1, 28, 28, 1)\n",
    "\n",
    "print('total_X:', total_X.shape)\n",
    "print('total_Y:', total_Y.shape)\n",
    "print('final_X:', final_X.shape)"
   ]
  },
  {
   "cell_type": "code",
   "execution_count": 23,
   "metadata": {},
   "outputs": [
    {
     "name": "stdout",
     "output_type": "stream",
     "text": [
      "需要预测的数字: {0, 1, 2, 3, 4, 5, 6, 7, 8, 9}\n"
     ]
    }
   ],
   "source": [
    "print('需要预测的数字:', set(np.squeeze(total_Y).tolist()))"
   ]
  },
  {
   "cell_type": "code",
   "execution_count": 5,
   "metadata": {},
   "outputs": [
    {
     "data": {
      "image/png": "[encoded data removed]",
      "text/plain": [
       "<matplotlib.figure.Figure at 0x107b5f6a0>"
      ]
     },
     "metadata": {},
     "output_type": "display_data"
    }
   ],
   "source": [
    "plt.figure(figsize=(16, 16))\n",
    "plt.rcParams['image.cmap'] = 'gray'\n",
    "for i in range(4):\n",
    "    plt.subplot(1, 4, i+1)\n",
    "    plt.imshow(total_X[i, :, :, 0])\n",
    "    plt.axis('off')"
   ]
  },
  {
   "cell_type": "markdown",
   "metadata": {},
   "source": [
    "### 随机化数据"
   ]
  },
  {
   "cell_type": "code",
   "execution_count": 6,
   "metadata": {},
   "outputs": [],
   "source": [
    "random_indexes = np.random.permutation(total_X.shape[0])\n",
    "total_shuffle_X = total_X[random_indexes]\n",
    "total_shuffle_Y = total_Y[random_indexes]"
   ]
  },
  {
   "cell_type": "markdown",
   "metadata": {},
   "source": [
    "## 用imagenet预训练的resnet提取所有图片特征，保存到文件"
   ]
  },
  {
   "cell_type": "markdown",
   "metadata": {},
   "source": [
    "### 特征保存类"
   ]
  },
  {
   "cell_type": "code",
   "execution_count": 60,
   "metadata": {},
   "outputs": [],
   "source": [
    "class Features_saver:\n",
    "    def __init__(self, file_path, total_size, feature_size):\n",
    "        if os.path.exists(file_path):\n",
    "            os.remove(file_path)\n",
    "        \n",
    "        self._h5f = h5py.File(file_path, mode='a')\n",
    "        self._dataset = self._h5f.create_dataset(\"features\", (total_size, feature_size),\n",
    "                                                 maxshape=(None, feature_size),\n",
    "                                                 dtype='float32')\n",
    "        self._last_point = 0\n",
    "        \n",
    "    def __del__(self):\n",
    "        if self._h5f != None:\n",
    "            self._h5f.close()\n",
    "            self._h5f = None\n",
    "            \n",
    "    def save_features(self, features):\n",
    "        self._dataset[self._last_point: self._last_point + features.shape[0]] = features\n",
    "        self._last_point += features.shape[0]\n",
    "        \n",
    "    def save_labels(self, labels):\n",
    "        self._h5f['labels'] = labels\n",
    "        \n",
    "    def close(self):\n",
    "        if self._h5f is not None:\n",
    "            self._h5f.close()\n",
    "            self._h5f = None"
   ]
  },
  {
   "cell_type": "markdown",
   "metadata": {},
   "source": [
    "### 图片输入管道"
   ]
  },
  {
   "cell_type": "code",
   "execution_count": 8,
   "metadata": {},
   "outputs": [],
   "source": [
    "def image_process_map(image):\n",
    "    rgb_image = tf.concat([image, image, image], axis=-1)\n",
    "    resize_image = tf.image.resize_images(rgb_image, size=(224, 224))\n",
    "    pre_image = keras.applications.resnet50.preprocess_input(resize_image, mode='tf')\n",
    "    \n",
    "    return pre_image;"
   ]
  },
  {
   "cell_type": "code",
   "execution_count": 9,
   "metadata": {},
   "outputs": [],
   "source": [
    "def gen_images(images, batch_size):\n",
    "    images_set = tf.data.Dataset.from_tensor_slices(images)\n",
    "    images_set = images_set.batch(batch_size)\n",
    "    images_set = images_set.repeat(1)\n",
    "    images_set = images_set.map(image_process_map, 8)\n",
    "    images_gen = images_set.make_one_shot_iterator()\n",
    "    next_images = images_gen.get_next()\n",
    "    \n",
    "    return next_images"
   ]
  },
  {
   "cell_type": "markdown",
   "metadata": {},
   "source": [
    "### 特征提取函数"
   ]
  },
  {
   "cell_type": "code",
   "execution_count": 10,
   "metadata": {},
   "outputs": [],
   "source": [
    "def build_placeholder():\n",
    "    inputs = tf.placeholder(shape=(None, 224, 224, 3), dtype=tf.float32, name='inputs')\n",
    "    \n",
    "    return inputs"
   ]
  },
  {
   "cell_type": "code",
   "execution_count": 11,
   "metadata": {},
   "outputs": [],
   "source": [
    "def build_pretrain_resnet(input):\n",
    "    resnet = keras.applications.resnet50.ResNet50(include_top=False, input_tensor=input, pooling='avg')\n",
    "    \n",
    "    return resnet.output"
   ]
  },
  {
   "cell_type": "code",
   "execution_count": 12,
   "metadata": {},
   "outputs": [],
   "source": [
    "def features_extract(file_path, images, labels=None, batch_size=8):  \n",
    "    tf.reset_default_graph()\n",
    "    \n",
    "    inputs_pl = build_placeholder()\n",
    "    pretrain_output_op = build_pretrain_resnet(inputs_pl)\n",
    "    \n",
    "    with tf.device('/cpu:0'):\n",
    "        images_gen = gen_images(images, batch_size)\n",
    "        \n",
    "    feature_saver = Features_saver(file_path, images.shape[0], 2048)\n",
    "    \n",
    "    sess = tf.Session()\n",
    "    sess.run(tf.global_variables_initializer())\n",
    "    \n",
    "    step = 0\n",
    "    while True:\n",
    "        try:\n",
    "            input_images = sess.run(images_gen)\n",
    "            batch_features = sess.run(pretrain_output_op, feed_dict={inputs_pl: input_images})\n",
    "            \n",
    "            feature_saver.save_features(batch_features)\n",
    "            \n",
    "            sys.stdout.write('\\r%{:.2f}    '.format(100 * step * batch_size / images.shape[0]))\n",
    "            sys.stdout.flush()\n",
    "            step += 1\n",
    "        except tf.errors.OutOfRangeError:\n",
    "            sys.stdout.write('\\r%100    ')\n",
    "            sys.stdout.flush()\n",
    "            print('')\n",
    "            print('Feature extraction complete')\n",
    "            break\n",
    "    \n",
    "    if isinstance(labels, np.ndarray):\n",
    "        feature_saver.save_labels(labels)\n",
    "        \n",
    "    feature_saver.close()\n",
    "    sess.close()"
   ]
  },
  {
   "cell_type": "code",
   "execution_count": 13,
   "metadata": {},
   "outputs": [
    {
     "name": "stdout",
     "output_type": "stream",
     "text": [
      "%100      \n",
      "Feature extraction complete\n"
     ]
    }
   ],
   "source": [
    "features_extract('total_features.h5', total_shuffle_X[:20], total_shuffle_Y[:20])"
   ]
  },
  {
   "cell_type": "code",
   "execution_count": 14,
   "metadata": {},
   "outputs": [],
   "source": [
    "# features_extract('final_test_features.h5', final_X[:10])"
   ]
  },
  {
   "cell_type": "markdown",
   "metadata": {},
   "source": [
    "## 直接用保存的特性训练一个很小的网络"
   ]
  },
  {
   "cell_type": "markdown",
   "metadata": {},
   "source": [
    "### 划分数据集"
   ]
  },
  {
   "cell_type": "code",
   "execution_count": 58,
   "metadata": {},
   "outputs": [
    {
     "data": {
      "text/plain": [
       "(20, 1)"
      ]
     },
     "execution_count": 58,
     "metadata": {},
     "output_type": "execute_result"
    }
   ],
   "source": [
    "h5f = h5py.File('total_features.h5', mode='r')\n",
    "total_X_dataset = h5f['features']\n",
    "total_Y_dataset = h5f['labels']\n",
    "\n",
    "total_X_dataset.shape\n",
    "total_Y_dataset.shape"
   ]
  },
  {
   "cell_type": "markdown",
   "metadata": {},
   "source": [
    "### 特征、标签生成器"
   ]
  },
  {
   "cell_type": "code",
   "execution_count": 116,
   "metadata": {},
   "outputs": [],
   "source": [
    "class Features_labels_gen:\n",
    "    def __init__(self, X_dataset, Y_dataset=None, epochs=1, batch_size=2):\n",
    "        self._X_dataset = X_dataset\n",
    "        self._Y_dataset = Y_dataset\n",
    "        \n",
    "        self.total_size = X_dataset.shape[0]\n",
    "        self.total_steps = self.total_size // batch_size\n",
    "        if self.total_size % batch_size != 0:\n",
    "            self.total_steps += 1\n",
    "\n",
    "        dataset = tf.data.Dataset.from_tensor_slices(np.arange(self.total_size))\n",
    "        dataset = dataset.repeat(epochs).batch(batch_size).shuffle(buffer_size=self.total_size // batch_size)\n",
    "        \n",
    "        self._next_indexes = dataset.make_one_shot_iterator().get_next()\n",
    "        \n",
    "    def get_featres_labels(self, sess):\n",
    "        indexes = list(sess.run(self._next_indexes))\n",
    "        print('indexes:', indexes)\n",
    "        if self._Y_dataset is None:\n",
    "            return self._X_dataset[indexes]\n",
    "        else:\n",
    "            return self._X_dataset[indexes], self._Y_dataset[indexes]       "
   ]
  },
  {
   "cell_type": "code",
   "execution_count": 118,
   "metadata": {},
   "outputs": [
    {
     "name": "stdout",
     "output_type": "stream",
     "text": [
      "indexes: [2, 3]\n",
      "indexes: [0, 1]\n",
      "indexes: [2, 3]\n",
      "indexes: [12, 13]\n",
      "indexes: [18, 19]\n",
      "indexes: [14, 15]\n",
      "indexes: [16, 17]\n",
      "indexes: [6, 7]\n",
      "indexes: [4, 5]\n",
      "indexes: [8, 9]\n",
      "indexes: [10, 11]\n",
      "indexes: [4, 5]\n",
      "indexes: [18, 19]\n",
      "indexes: [8, 9]\n",
      "indexes: [16, 17]\n",
      "indexes: [14, 15]\n",
      "indexes: [6, 7]\n",
      "indexes: [12, 13]\n",
      "indexes: [0, 1]\n",
      "indexes: [10, 11]\n"
     ]
    }
   ],
   "source": [
    "gen = Features_labels_gen(total_X_dataset, total_Y_dataset, epochs=2)\n",
    "with tf.Session() as sess:\n",
    "    try:\n",
    "        while True:\n",
    "            X, Y = gen.get_featres_labels(sess)\n",
    "    except:\n",
    "        pass\n",
    "    "
   ]
  },
  {
   "cell_type": "markdown",
   "metadata": {},
   "source": [
    "### 微调的小网络"
   ]
  },
  {
   "cell_type": "code",
   "execution_count": 102,
   "metadata": {},
   "outputs": [],
   "source": [
    "def build_small_net(input, lambd=0, shapes=(10,)):\n",
    "    with tf.name_scope('small_net'):\n",
    "        layer_output = input\n",
    "        for index, shape in enumerate(shapes):\n",
    "            regular = tf.contrib.layers.l2_regularizer(tf.constant(lambd, dtype=tf.float32))\n",
    "            liner_output = tf.layers.dense(layer_output,\n",
    "                                           shape, \n",
    "                                           activation=None,\n",
    "                                           kernel_initializer=tf.contrib.layers.xavier_initializer(),\n",
    "                                           kernel_regularizer=regular)\n",
    "            \n",
    "            if index == len(shapes) - 1:\n",
    "                layer_output = tf.nn.relu(liner_output)\n",
    "            else:\n",
    "                layer_output = tf.nn.softmax(liner_output)\n",
    "                \n",
    "    logits = liner_output\n",
    "    output = layer_output\n",
    "    \n",
    "    return logits, output"
   ]
  },
  {
   "cell_type": "code",
   "execution_count": 103,
   "metadata": {},
   "outputs": [],
   "source": [
    "def build_fineture_input():\n",
    "    inputs = tf.placeholder(shape=(None, 2048), dtype=tf.float32, name='inputs')\n",
    "    labels = tf.placeholder(shape=(None, 1), dtype=tf.int32, name='labels') \n",
    "    \n",
    "    return inputs, labels"
   ]
  },
  {
   "cell_type": "code",
   "execution_count": 104,
   "metadata": {},
   "outputs": [],
   "source": [
    "def build_cost(logits, labels):\n",
    "    onehot_labels = tf.one_hot(labels, depth=10, axis=-1)\n",
    "    \n",
    "    return tf.reduce_mean(tf.nn.softmax_cross_entropy_with_logits_v2(labels=onehot_labels, logits=logits))"
   ]
  },
  {
   "cell_type": "markdown",
   "metadata": {},
   "source": [
    "### 微调"
   ]
  },
  {
   "cell_type": "code",
   "execution_count": 113,
   "metadata": {},
   "outputs": [],
   "source": [
    "def fineturn(X_dataset, Y_dataset, lr=0.01, batch_size=2,\n",
    "             lambd=0, epochs=1, fineture_net_shape=(10,), print_steps=10):\n",
    "    inputs_pl, labels_pl = build_fineture_input()\n",
    "    logits_op, output_op = build_small_net(inputs_pl, lambd, fineture_net_shape)\n",
    "    \n",
    "    cost_op = build_cost(logits_op, labels_pl)\n",
    "    optimizer_op = tf.train.AdamOptimizer(lr).minimize(cost_op)\n",
    "    \n",
    "    data_gen = Features_labels_gen(X_dataset, Y_dataset, epochs, batch_size)\n",
    "    \n",
    "    sess = tf.Session()\n",
    "    sess.run(tf.global_variables_initializer())\n",
    "    \n",
    "    costs = []\n",
    "    \n",
    "    try:\n",
    "        step = 0\n",
    "        while True:\n",
    "            X, Y = data_gen.get_featres_labels(sess)\n",
    "        \n",
    "            _, cost = sess.run((optimizer_op, cost_op), feed_dict={inputs_pl: X, labels_pl: Y})\n",
    "            \n",
    "            if step % print_steps == 0:\n",
    "                costs.append(cost)\n",
    "                print('step:{0}--cost:{1}'.format(step, cost))\n",
    "            \n",
    "            step += 1\n",
    "    except tf.errors.OutOfRangeError:\n",
    "        pass\n",
    "    \n",
    "    plt.plot(costs)\n",
    "    \n",
    "    sess.close()"
   ]
  },
  {
   "cell_type": "code",
   "execution_count": 115,
   "metadata": {},
   "outputs": [
    {
     "name": "stdout",
     "output_type": "stream",
     "text": [
      "X: (2, 2048)\n",
      "Y: (2, 1)\n",
      "step:0--cost:2.248910903930664\n",
      "X: (2, 2048)\n",
      "Y: (2, 1)\n",
      "step:1--cost:2.23604679107666\n",
      "X: (2, 2048)\n",
      "Y: (2, 1)\n",
      "step:2--cost:2.4041543006896973\n",
      "X: (2, 2048)\n",
      "Y: (2, 1)\n",
      "step:3--cost:2.2338807582855225\n",
      "X: (2, 2048)\n",
      "Y: (2, 1)\n",
      "step:4--cost:2.2476792335510254\n",
      "X: (2, 2048)\n",
      "Y: (2, 1)\n",
      "step:5--cost:2.4134178161621094\n",
      "X: (2, 2048)\n",
      "Y: (2, 1)\n",
      "step:6--cost:2.1963274478912354\n",
      "X: (2, 2048)\n",
      "Y: (2, 1)\n",
      "step:7--cost:2.0597522258758545\n",
      "X: (2, 2048)\n",
      "Y: (2, 1)\n",
      "step:8--cost:2.522230863571167\n",
      "X: (2, 2048)\n",
      "Y: (2, 1)\n",
      "step:9--cost:2.3575897216796875\n",
      "X: (2, 2048)\n",
      "Y: (2, 1)\n",
      "step:10--cost:2.0312132835388184\n",
      "X: (2, 2048)\n",
      "Y: (2, 1)\n",
      "step:11--cost:1.8872264623641968\n",
      "X: (2, 2048)\n",
      "Y: (2, 1)\n",
      "step:12--cost:2.5238280296325684\n",
      "X: (2, 2048)\n",
      "Y: (2, 1)\n",
      "step:13--cost:2.358506202697754\n",
      "X: (2, 2048)\n",
      "Y: (2, 1)\n",
      "step:14--cost:2.251500129699707\n",
      "X: (2, 2048)\n",
      "Y: (2, 1)\n",
      "step:15--cost:2.3741798400878906\n",
      "X: (2, 2048)\n",
      "Y: (2, 1)\n",
      "step:16--cost:2.0704612731933594\n",
      "X: (2, 2048)\n",
      "Y: (2, 1)\n",
      "step:17--cost:2.062251567840576\n",
      "X: (2, 2048)\n",
      "Y: (2, 1)\n",
      "step:18--cost:1.9249058961868286\n",
      "X: (2, 2048)\n",
      "Y: (2, 1)\n",
      "step:19--cost:2.077902317047119\n"
     ]
    },
    {
     "data": {
      "image/png": "[encoded data removed]",
      "text/plain": [
       "<matplotlib.figure.Figure at 0x1c60708b38>"
      ]
     },
     "metadata": {},
     "output_type": "display_data"
    }
   ],
   "source": [
    "fineturn(total_X_dataset, total_Y_dataset, lr=0.001, epochs=2, print_steps=1)"
   ]
  },
  {
   "cell_type": "code",
   "execution_count": null,
   "metadata": {},
   "outputs": [],
   "source": []
  }
 ],
 "metadata": {
  "kernelspec": {
   "display_name": "Python 3",
   "language": "python",
   "name": "python3"
  },
  "language_info": {
   "codemirror_mode": {
    "name": "ipython",
    "version": 3
   },
   "file_extension": ".py",
   "mimetype": "text/x-python",
   "name": "python",
   "nbconvert_exporter": "python",
   "pygments_lexer": "ipython3",
   "version": "3.6.4"
  }
 },
 "nbformat": 4,
 "nbformat_minor": 2
}
